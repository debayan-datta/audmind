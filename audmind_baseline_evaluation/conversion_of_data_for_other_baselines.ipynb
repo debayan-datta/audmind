{
 "cells": [
  {
   "cell_type": "markdown",
   "id": "070a0d08-5c9d-4772-af58-7726f6553576",
   "metadata": {},
   "source": [
    "# Convert the data for GAMA"
   ]
  },
  {
   "cell_type": "markdown",
   "id": "e1015560-b79f-4319-9b92-cfafcf5fbb51",
   "metadata": {},
   "source": [
    "### make the training json for GAMA"
   ]
  },
  {
   "cell_type": "raw",
   "id": "2b24e17a-0ca9-4466-893b-21700cdef86f",
   "metadata": {},
   "source": [
    "import pandas as pd\n",
    "import json\n",
    "\n",
    "# Load the CSV file\n",
    "df = pd.read_csv(\"train_mentalhealth.csv\")  # change sep if your file is comma-separated\n",
    "\n",
    "# Function to construct the desired format\n",
    "def row_to_dict(row):\n",
    "    return {\n",
    "        \"audio_id\": f\"/data/amey_2311cs10/debayan/train_mentalhealth/{row['file_id']}.wav\",\n",
    "        \"instruction\": row[\"Question\"],\n",
    "        \"dataset\": \"\",\n",
    "        \"task\": \"\",\n",
    "        \"output\": f\"<Answer>{row['Answer']}</Answer><Reasoning>{row['Reasoning']}</Reasoning>\"\n",
    "        \n",
    "    }\n",
    "\n",
    "# Apply transformation\n",
    "data = [row_to_dict(row) for _, row in df.iterrows()]\n",
    "\n",
    "# Save to JSON\n",
    "with open(\"train_json_for_gama.json\", \"w\") as f:\n",
    "    json.dump(data, f, indent=2)\n",
    "\n",
    "print(\"DONE\")"
   ]
  },
  {
   "cell_type": "markdown",
   "id": "e27a2929-236b-4eed-9e06-909db52c5a2e",
   "metadata": {},
   "source": [
    "### make training data, with key \"input\""
   ]
  },
  {
   "cell_type": "code",
   "execution_count": 1,
   "id": "c87a4724-5d9c-4055-b42b-a35263ce88fc",
   "metadata": {},
   "outputs": [
    {
     "name": "stdout",
     "output_type": "stream",
     "text": [
      "DONE\n"
     ]
    }
   ],
   "source": [
    "import pandas as pd\n",
    "import json\n",
    "\n",
    "# Load the CSV file\n",
    "df = pd.read_csv(\"train_mentalhealth.csv\")  # change sep if your file is comma-separated\n",
    "\n",
    "# Function to construct the desired format\n",
    "def row_to_dict(row):\n",
    "    return {\n",
    "        \"audio_id\": f\"/data/amey_2311cs10/debayan/train_mentalhealth/{row['file_id']}.wav\",\n",
    "        \"instruction\": row[\"Question\"],\n",
    "        \"input\":\"\",\n",
    "        \"dataset\": \"\",\n",
    "        \"task\": \"\",\n",
    "        \"output\": f\"<Answer>{row['Answer']}</Answer><Reasoning>{row['Reasoning']}</Reasoning>\"\n",
    "        \n",
    "    }\n",
    "\n",
    "# Apply transformation\n",
    "data = [row_to_dict(row) for _, row in df.iterrows()]\n",
    "\n",
    "# Save to JSON\n",
    "with open(\"train_json_for_gama1.json\", \"w\") as f:\n",
    "    json.dump(data, f, indent=2)\n",
    "\n",
    "print(\"DONE\")"
   ]
  },
  {
   "cell_type": "markdown",
   "id": "37da8cf0-6b13-4a25-a99a-a21793f77ba6",
   "metadata": {},
   "source": [
    "### for GAMA, but not train only Inference"
   ]
  },
  {
   "cell_type": "code",
   "execution_count": 10,
   "id": "52064d31-fa42-4a96-b715-f48714a13f7e",
   "metadata": {},
   "outputs": [],
   "source": [
    "import pandas as pd\n",
    "import json\n",
    "\n",
    "# Load the CSV\n",
    "df = pd.read_csv(\"test_mentalhealth.csv\")  # replace with your CSV filename\n",
    "\n",
    "json_data = []\n",
    "\n",
    "for _, row in df.iterrows():\n",
    "    entry = {\n",
    "        \"audio_id\": f\"/data/amey_2311cs10/AudioLM_baselines/GAMA/test_mentalhealth_16kHz/{row['file_id']}.wav\",\n",
    "        \"input\": \"\",\n",
    "        \"dataset\": \"\",\n",
    "        \"task\": \"open-ended question\",\n",
    "        \"instruction_output\": [\n",
    "            {\n",
    "                \"instruction\": row[\"Question\"],\n",
    "                \"output\": f\"<Answer>{row['Answer']}</Answer><Reasoning>{row['Reasoning']}</Reasoning>\"\n",
    "            }\n",
    "        ],\n",
    "        \"timestamp_events\": \"\",\n",
    "        \"caption\": \"\"\n",
    "    }\n",
    "    json_data.append(entry)\n",
    "\n",
    "# Save to a JSON file\n",
    "with open(\"test_json_for_gama.json\", \"w\") as f:\n",
    "    json.dump(json_data, f, indent=4)"
   ]
  },
  {
   "cell_type": "code",
   "execution_count": null,
   "id": "1a2eea3b-5d51-4b23-a33f-3c1771718e4f",
   "metadata": {},
   "outputs": [],
   "source": [
    "# !cp debayan/test_json_for_gama.json AudioLM_baselines/GAMA/"
   ]
  },
  {
   "cell_type": "code",
   "execution_count": null,
   "id": "8a9b7adb-37cc-41b4-8381-1b31fa638331",
   "metadata": {},
   "outputs": [],
   "source": [
    "AudioLM_baselines/GAMA/test_mentalhealth_16khz/mfe8OzzArGc_chunk29_data1_task3.wav"
   ]
  },
  {
   "cell_type": "markdown",
   "id": "285337f6-b872-4301-8cd8-88e79762847d",
   "metadata": {},
   "source": [
    "_____________________________________________________________________________________________________________\n",
    "\n",
    "# Convert the data for Audio-flamingo2"
   ]
  },
  {
   "cell_type": "code",
   "execution_count": 2,
   "id": "20d18e1a-7ccd-481d-9153-a72ef5a17908",
   "metadata": {},
   "outputs": [],
   "source": [
    "import pandas as pd\n",
    "import json"
   ]
  },
  {
   "cell_type": "markdown",
   "id": "5690f783-861e-4151-bf43-1b7175f8d4fd",
   "metadata": {},
   "source": [
    "### Training json"
   ]
  },
  {
   "cell_type": "raw",
   "id": "7c555de2-02d4-4eeb-add8-ab9f07acb03e",
   "metadata": {},
   "source": [
    "# Load CSV\n",
    "csv_path = 'train_mentalhealth.csv'  # replace with your actual CSV file path\n",
    "df = pd.read_csv(csv_path)\n",
    "\n",
    "# Construct JSON\n",
    "json_data = {\n",
    "    \"split\": \"train\",\n",
    "    \"split_path\": \"train_mentalhealth\",\n",
    "    \"flamingo_task\": \"audio-qa-reasoning\",\n",
    "    \"total_num\": len(df),\n",
    "    \"data\": {}\n",
    "}\n",
    "\n",
    "# Populate data\n",
    "for idx, row in df.iterrows():\n",
    "    json_data[\"data\"][str(idx)] = {\n",
    "        \"name\": row[\"file_id\"],\n",
    "        \"prompt\": row[\"Question\"],\n",
    "        \"output\": f\"<Answer> {row['Answer']} </Answer> <Reasoning> {row['Reasoning']} </Reasoning>\",\n",
    "        \"duration\": 30\n",
    "    }\n",
    "\n",
    "# Save to JSON\n",
    "output_path = 'audioflamingo2_train.json'  # name of output file\n",
    "with open(output_path, 'w') as f:\n",
    "    json.dump(json_data, f, indent=4)"
   ]
  },
  {
   "cell_type": "markdown",
   "id": "cdc351ee-a294-4466-859d-93f7ed468493",
   "metadata": {},
   "source": [
    "### Train json (with .wav extension)"
   ]
  },
  {
   "cell_type": "code",
   "execution_count": 3,
   "id": "13501d83-124b-4d72-a482-3c669d4559dd",
   "metadata": {},
   "outputs": [],
   "source": [
    "# Load CSV\n",
    "csv_path = 'train_mentalhealth.csv'  # replace with your actual CSV file path\n",
    "df = pd.read_csv(csv_path)\n",
    "\n",
    "# Construct JSON\n",
    "json_data = {\n",
    "    \"split\": \"train\",\n",
    "    \"split_path\": \"train_mentalhealth\",\n",
    "    \"flamingo_task\": \"audio-qa-reasoning\",\n",
    "    \"total_num\": len(df),\n",
    "    \"data\": {}\n",
    "}\n",
    "\n",
    "# Populate data\n",
    "for idx, row in df.iterrows():\n",
    "    json_data[\"data\"][str(idx)] = {\n",
    "        \"name\": row[\"file_id\"] + \".wav\",\n",
    "        \"prompt\": row[\"Question\"],\n",
    "        \"output\": f\"<Answer> {row['Answer']} </Answer> <Reasoning> {row['Reasoning']} </Reasoning>\",\n",
    "        \"duration\": 30\n",
    "    }\n",
    "\n",
    "# Save to JSON\n",
    "output_path = 'audioflamingo2_train_ext.json'  # name of output file\n",
    "with open(output_path, 'w') as f:\n",
    "    json.dump(json_data, f, indent=4)"
   ]
  },
  {
   "cell_type": "markdown",
   "id": "0b2315d2-390e-43a1-9a75-fbc9422583f3",
   "metadata": {},
   "source": [
    "### Test json"
   ]
  },
  {
   "cell_type": "raw",
   "id": "818896bf-6402-4624-a7aa-172faf9136b6",
   "metadata": {},
   "source": [
    "# Load CSV\n",
    "csv_path = 'test_mentalhealth.csv'  # replace with your actual CSV file path\n",
    "df = pd.read_csv(csv_path)\n",
    "\n",
    "# Construct JSON\n",
    "json_data = {\n",
    "    \"split\": \"test\",\n",
    "    \"split_path\": \"test_mentalhealth\",\n",
    "    \"flamingo_task\": \"audio-qa-reasoning\",\n",
    "    \"total_num\": len(df),\n",
    "    \"data\": {}\n",
    "}\n",
    "\n",
    "# Populate data\n",
    "for idx, row in df.iterrows():\n",
    "    json_data[\"data\"][str(idx)] = {\n",
    "        \"name\": row[\"file_id\"],\n",
    "        \"prompt\": row[\"Question\"],\n",
    "        \"output\": f\"<Answer> {row['Answer']} </Answer> <Reasoning> {row['Reasoning']} </Reasoning>\",\n",
    "        \"duration\": 30\n",
    "    }\n",
    "\n",
    "# Save to JSON\n",
    "output_path = 'audioflamingo2_test.json'  # name of output file\n",
    "with open(output_path, 'w') as f:\n",
    "    json.dump(json_data, f, indent=4)"
   ]
  },
  {
   "cell_type": "markdown",
   "id": "e2731ea5-3968-412b-a14b-6dfebd8c82cb",
   "metadata": {},
   "source": [
    "### Test json (with .wav extension)"
   ]
  },
  {
   "cell_type": "code",
   "execution_count": null,
   "id": "aba9deb5-d812-42c8-8fbd-9aaf3ccdf2f7",
   "metadata": {},
   "outputs": [],
   "source": [
    "# Load CSV\n",
    "csv_path = 'test_mentalhealth.csv'  # replace with your actual CSV file path\n",
    "df = pd.read_csv(csv_path)\n",
    "\n",
    "# Construct JSON\n",
    "json_data = {\n",
    "    \"split\": \"test\",\n",
    "    \"split_path\": \"test_mentalhealth\",\n",
    "    \"flamingo_task\": \"audio-qa-reasoning\",\n",
    "    \"total_num\": len(df),\n",
    "    \"data\": {}\n",
    "}\n",
    "\n",
    "# Populate data\n",
    "for idx, row in df.iterrows():\n",
    "    json_data[\"data\"][str(idx)] = {\n",
    "        \"name\": row[\"file_id\"] + \".wav\",\n",
    "        \"prompt\": row[\"Question\"],\n",
    "        \"output\": f\"<Answer> {row['Answer']} </Answer> <Reasoning> {row['Reasoning']} </Reasoning>\",\n",
    "        \"duration\": 30\n",
    "    }\n",
    "\n",
    "# Save to JSON\n",
    "output_path = 'audioflamingo2_test_ext.json'  # name of output file\n",
    "with open(output_path, 'w') as f:\n",
    "    json.dump(json_data, f, indent=4)"
   ]
  },
  {
   "cell_type": "markdown",
   "id": "2be69b5f-6488-48e3-8123-c12445694501",
   "metadata": {},
   "source": [
    "_______________________________________________________________________\n",
    "\n",
    "# Convert the data to Qwen 2 Audio"
   ]
  },
  {
   "cell_type": "code",
   "execution_count": 1,
   "id": "56c2d970-bf0f-4746-9d05-956e7c43d498",
   "metadata": {},
   "outputs": [],
   "source": [
    "import pandas as pd\n",
    "import json"
   ]
  },
  {
   "cell_type": "code",
   "execution_count": 2,
   "id": "f1d36fcf-4f90-4db7-89be-7d82f7da825a",
   "metadata": {},
   "outputs": [],
   "source": [
    "csv_path = 'test_mentalhealth.csv'  # replace with your actual CSV file path\n",
    "df = pd.read_csv(csv_path)"
   ]
  },
  {
   "cell_type": "code",
   "execution_count": 4,
   "id": "29edb4dd-1e62-4e84-a1dd-316fd2214f63",
   "metadata": {},
   "outputs": [],
   "source": [
    "# Prepare conversations list\n",
    "conversations = []\n",
    "\n",
    "for _, row in df.iterrows():\n",
    "    conv = [\n",
    "        {\n",
    "            \"role\": \"system\",\n",
    "            \"content\": \"Output should be in <Answer>...</Answer><Reasoning>...</Reasoning> format.\"\n",
    "        },\n",
    "        {\n",
    "            \"role\": \"user\",\n",
    "            \"content\": [\n",
    "                {\n",
    "                    \"type\": \"audio\",\n",
    "                    \"audio_url\": f\"/data/amey_2311cs10/AudioLM_baselines/GAMA/test_mentalhealth_16kHz/{row['file_id']}.wav\"\n",
    "                },\n",
    "                {\n",
    "                    \"type\": \"text\",\n",
    "                    \"text\": row[\"Question\"]\n",
    "                }\n",
    "            ]\n",
    "        }\n",
    "    ]\n",
    "    conversations.append({\"conversation\": conv})\n",
    "\n",
    "# Save to JSON file\n",
    "with open(\"qwen2audio_inference.json\", \"w\") as f:\n",
    "    json.dump(conversations, f, indent=4)"
   ]
  },
  {
   "cell_type": "markdown",
   "id": "28bf3486-b697-49b4-a9cf-c9bb9969eb5d",
   "metadata": {},
   "source": [
    "____________________________________________________\n",
    "\n",
    "# Convert the data for Salmonn"
   ]
  },
  {
   "cell_type": "code",
   "execution_count": 2,
   "id": "9e8f6f59-dc6a-4be7-a3d9-4d1a75bea32c",
   "metadata": {},
   "outputs": [],
   "source": [
    "import pandas as pd\n",
    "import json"
   ]
  },
  {
   "cell_type": "code",
   "execution_count": 3,
   "id": "0a0a3625-2bce-452f-8d5d-4384fb9489d6",
   "metadata": {},
   "outputs": [],
   "source": [
    "csv_path = 'test_mentalhealth.csv'  # replace with your actual CSV file path\n",
    "df = pd.read_csv(csv_path)"
   ]
  },
  {
   "cell_type": "code",
   "execution_count": 11,
   "id": "caca40ad-f95b-43a3-9cb3-3c0939ed03d5",
   "metadata": {},
   "outputs": [],
   "source": [
    "# unique_tasks = df['Question'].unique()\n",
    "\n",
    "# # Assuming unique_tasks is a NumPy array or list-like\n",
    "# task_dict = {task: task for task in unique_tasks}\n",
    "\n",
    "# # To print it as a JSON-formatted string\n",
    "# # print(json.dumps(task_dict, indent=4, ensure_ascii=False))\n",
    "\n",
    "# with open('test_prompt_salmonn.json', 'w', encoding='utf-8') as f:\n",
    "#     json.dump(task_dict, f, indent=4, ensure_ascii=False)"
   ]
  },
  {
   "cell_type": "code",
   "execution_count": 8,
   "id": "4903db50-bb8b-4515-aa86-68349a837b26",
   "metadata": {},
   "outputs": [],
   "source": [
    "# Build the list of annotations\n",
    "annotations = []\n",
    "for _, row in df.iterrows():\n",
    "    annotation = {\n",
    "        \"path\": f\"./test_mentalhealth_16kHz/{row['file_id']}.wav\",\n",
    "        \"text\": f\"<Answer> {row['Answer']} </Answer> <Reasoning> {row['Reasoning']} </Reasoning>\",\n",
    "        \"task\": \"QA\",\n",
    "        \"Q\": row['Question']\n",
    "    }\n",
    "    annotations.append(annotation)\n",
    "\n",
    "# Final dictionary\n",
    "final_json = {\n",
    "    \"annotation\": annotations\n",
    "}\n",
    "\n",
    "# Save to JSON file\n",
    "with open('data_test_salmonn_annotations.json', 'w', encoding='utf-8') as f:\n",
    "    json.dump(final_json, f, indent=4, ensure_ascii=False)"
   ]
  },
  {
   "cell_type": "markdown",
   "id": "7b5b3d8c-1181-4e6f-94bf-98fe24545d3c",
   "metadata": {},
   "source": [
    "## Convert the data for Salmonn (Few shot prompting for tasks) to get reasoning"
   ]
  },
  {
   "cell_type": "code",
   "execution_count": 10,
   "id": "0243412f-d7ae-4e29-8903-bcbb9b7ca7ef",
   "metadata": {},
   "outputs": [],
   "source": [
    "import pandas as pd\n",
    "import json\n",
    "import re"
   ]
  },
  {
   "cell_type": "code",
   "execution_count": 11,
   "id": "329605c0-e9c6-4ec9-b470-581d5c4f1cde",
   "metadata": {},
   "outputs": [],
   "source": [
    "csv_path = 'test_mentalhealth.csv'  # replace with your actual CSV file path\n",
    "df = pd.read_csv(csv_path)"
   ]
  },
  {
   "cell_type": "code",
   "execution_count": 14,
   "id": "84b3e71a-912d-44c3-b424-eece2afab3f3",
   "metadata": {},
   "outputs": [],
   "source": [
    "task_examples = {\n",
    "    \"task1\": \"\"\"Below is an example of the expected output format for this task.\\nOutput: <s> <Answer> Yes, the patient suffers from stress. </Answer> <Reasoning> The patient openly discusses their history of anxiety and how it used to only affect them during specific events. However, they now express that their anxiety has escalated to a new level and is impacting their day-to-day life. This indicates that the patient is experiencing increased stress and anxiety symptoms, suggesting they are suffering from ongoing stress. </Reasoning> </s>\"\"\",\n",
    "    \n",
    "    \"task2\": \"\"\"Below is an example of the expected output format for this task.\\nOutput: <s> <Answer> This shows suicide or self-harm tendency. </Answer> <Reasoning> The use of phrases like \"\"I hate everything and everybody\"\" and \"\"This life is not worth living\"\" indicate a strong sense of hopelessness and despair. The mention of love not being like the movies and the phrase \"\"we're fucked\"\" further suggests a negative perspective on life and relationships. The use of profanity and the intensity of the emotions expressed suggest a high level of distress and potential risk for self-harm or suicide. </Reasoning> </s>\"\"\",\n",
    "    \n",
    "    \"task3\": \"\"\"Below is an example of the expected output format for this task.\\nOutput: <s> <Answer> This patient shows the stress cause related to everyday decision making. </Answer> <Reasoning> The patient mentions having to end a conversation because of needing to finish work at Starbucks. This suggests that the patient is experiencing stress due to having to make a decision between spending time talking and completing work. This falls under the category of everyday decision making as a stress cause. </Reasoning> </s>\"\"\",\n",
    "\n",
    "    \"task4\": \"\"\"Below is an example of the expected output format for this task.\\nOutput: <s> <Answer> Yes, this wellness dimension exists here. </Answer> <Reasoning> The wellness dimension of emotional aspect exists in the patient. The individual is expressing feelings of self-blame, regret, and a desire for death. This demonstrates awareness of their own emotions and a lack of acceptance of their current state. </Reasoning> </s>\"\"\"\n",
    "}"
   ]
  },
  {
   "cell_type": "code",
   "execution_count": 15,
   "id": "15766c0e-fef3-4b4b-bf36-8f48037af565",
   "metadata": {},
   "outputs": [],
   "source": [
    "annotations = []\n",
    "\n",
    "for _, row in df.iterrows():\n",
    "    match = re.search(r'task\\d+', row['file_id'])\n",
    "    task_key = match.group() if match else 'task1'\n",
    "    \n",
    "    task_instruction = task_examples.get(task_key, \"\")\n",
    "    full_question = f\"{row['Question']}\\n\\n{task_instruction}\"\n",
    "    \n",
    "    annotation = {\n",
    "        \"path\": f\"./test_mentalhealth_16kHz/{row['file_id']}.wav\",\n",
    "        \"text\": f\"<Answer> {row['Answer']} </Answer> <Reasoning> {row['Reasoning']} </Reasoning>\",\n",
    "        \"task\": \"QA\",\n",
    "        \"Q\": full_question\n",
    "    }\n",
    "    annotations.append(annotation)\n",
    "\n",
    "final_json = {\n",
    "    \"annotation\": annotations\n",
    "}\n",
    "\n",
    "# Save to JSON file\n",
    "with open('test_mentalhealth_salmonn.json', 'w', encoding='utf-8') as f:\n",
    "    json.dump(final_json, f, indent=4, ensure_ascii=False)"
   ]
  },
  {
   "cell_type": "raw",
   "id": "24d19a37-0069-4c38-94d4-6b2ede37e7f4",
   "metadata": {},
   "source": [
    "# Open and load the JSON file\n",
    "with open('test_mentalhealth_salmonn.json', 'r') as file:\n",
    "    data = json.load(file)\n",
    "\n",
    "# Pretty print the JSON content\n",
    "print(json.dumps(data, indent=4))"
   ]
  },
  {
   "cell_type": "markdown",
   "id": "d6769f36-3ade-4221-b456-fc05268bf076",
   "metadata": {},
   "source": [
    "_______________________________________________________\n",
    "# Convert data for LTU & LTU-AS"
   ]
  },
  {
   "cell_type": "code",
   "execution_count": 2,
   "id": "3329a765-d3b7-4e3e-8fd0-6894de1d47da",
   "metadata": {},
   "outputs": [],
   "source": [
    "import pandas as pd\n",
    "import json"
   ]
  },
  {
   "cell_type": "code",
   "execution_count": 8,
   "id": "2d8eb97f-d7c1-4c04-bb51-89d7eb6b5673",
   "metadata": {},
   "outputs": [
    {
     "name": "stdout",
     "output_type": "stream",
     "text": [
      "JSON saved as ltu_test_audmind.json\n"
     ]
    }
   ],
   "source": [
    "df = pd.read_csv(\"test_audmind.csv\")\n",
    "\n",
    "# Prepare the list of JSON entries\n",
    "json_data = []\n",
    "\n",
    "for _, row in df.iterrows():\n",
    "    entry = {\n",
    "        \"instruction\": row[\"Question\"],\n",
    "        \"input\": row[\"text\"],\n",
    "        \"audio_id\": f\"/data/amey_2311cs10/debayan/test_mentalhealth_16kHz/{row['file_id']}.wav\",\n",
    "        \"dataset\": \"\",\n",
    "        \"task\": \"open-ended question\",\n",
    "        \"output\": f\"<Answer>{row['Answer']}</Answer> <Reasoning>{row['Reasoning']}</Reasoning>\"\n",
    "    }\n",
    "    json_data.append(entry)\n",
    "\n",
    "# Save as JSON\n",
    "with open(\"ltu_test_audmind.json\", \"w\", encoding=\"utf-8\") as f:\n",
    "    json.dump(json_data, f, indent=2, ensure_ascii=False)\n",
    "\n",
    "print(\"JSON saved as ltu_test_audmind.json\")"
   ]
  },
  {
   "cell_type": "markdown",
   "id": "84acf626-900b-4f71-a36e-0a33c2da290a",
   "metadata": {},
   "source": [
    "______________________________________________________\n",
    "# Convert data for Mellow"
   ]
  },
  {
   "cell_type": "code",
   "execution_count": 1,
   "id": "3f5cbaae-2abc-4206-86bd-28c44500333a",
   "metadata": {},
   "outputs": [],
   "source": [
    "import pandas as pd\n",
    "import json"
   ]
  },
  {
   "cell_type": "code",
   "execution_count": 2,
   "id": "3a88a032-ddbf-4536-a5b6-aa98a8928ac4",
   "metadata": {},
   "outputs": [
    {
     "name": "stdout",
     "output_type": "stream",
     "text": [
      "JSON saved as mellow_test_audmind.json\n"
     ]
    }
   ],
   "source": [
    "df = pd.read_csv(\"test_audmind.csv\")\n",
    "\n",
    "# Prepare the list of JSON entries\n",
    "json_data = []\n",
    "\n",
    "for _, row in df.iterrows():\n",
    "    entry = {\n",
    "        \n",
    "        \"taskname\": \"audmind\",\n",
    "        \"filepath1\": f\"/data/amey_2311cs10/debayan/test_mentalhealth_16kHz/{row['file_id']}.wav\",\n",
    "        \"filepath2\": \"\",\n",
    "        \"caption1\": row[\"text\"],\n",
    "        \"caption2\": \"\",\n",
    "        \"input\": row['Question'],\n",
    "        \"answer\": f\"<Answer>{row['Answer']}</Answer> <Reasoning>{row['Reasoning']}</Reasoning>\",\n",
    "        \"subtype\": \"mellow_test_audmind.json\"\n",
    "    }\n",
    "    json_data.append(entry)\n",
    "\n",
    "# Save as JSON\n",
    "with open(\"mellow_test_audmind.json\", \"w\", encoding=\"utf-8\") as f:\n",
    "    json.dump(json_data, f, indent=2, ensure_ascii=False)\n",
    "\n",
    "print(\"JSON saved as mellow_test_audmind.json\")"
   ]
  },
  {
   "cell_type": "code",
   "execution_count": null,
   "id": "0d24ca6d-0250-4eaf-8470-cb2ee04f856d",
   "metadata": {},
   "outputs": [],
   "source": []
  }
 ],
 "metadata": {
  "kernelspec": {
   "display_name": "Python 3 (ipykernel)",
   "language": "python",
   "name": "python3"
  },
  "language_info": {
   "codemirror_mode": {
    "name": "ipython",
    "version": 3
   },
   "file_extension": ".py",
   "mimetype": "text/x-python",
   "name": "python",
   "nbconvert_exporter": "python",
   "pygments_lexer": "ipython3",
   "version": "3.12.9"
  }
 },
 "nbformat": 4,
 "nbformat_minor": 5
}
