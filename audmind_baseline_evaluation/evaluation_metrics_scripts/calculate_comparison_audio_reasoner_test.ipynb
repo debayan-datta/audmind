{
 "cells": [
  {
   "cell_type": "markdown",
   "id": "09e34a8c-9b9c-4f75-9a39-d54c2b43a3be",
   "metadata": {},
   "source": [
    "# This is the the comparison of the Test Results for Audio Reasoner using our data"
   ]
  },
  {
   "cell_type": "code",
   "execution_count": 1,
   "id": "99a5cab0-6978-4599-8fce-bb63ad77397d",
   "metadata": {},
   "outputs": [],
   "source": [
    "import pandas as pd"
   ]
  },
  {
   "cell_type": "code",
   "execution_count": 2,
   "id": "57a6bd60-e78c-45a4-9be8-884851dbdbf4",
   "metadata": {},
   "outputs": [
    {
     "data": {
      "text/html": [
       "<div>\n",
       "<style scoped>\n",
       "    .dataframe tbody tr th:only-of-type {\n",
       "        vertical-align: middle;\n",
       "    }\n",
       "\n",
       "    .dataframe tbody tr th {\n",
       "        vertical-align: top;\n",
       "    }\n",
       "\n",
       "    .dataframe thead th {\n",
       "        text-align: right;\n",
       "    }\n",
       "</style>\n",
       "<table border=\"1\" class=\"dataframe\">\n",
       "  <thead>\n",
       "    <tr style=\"text-align: right;\">\n",
       "      <th></th>\n",
       "      <th>file_id</th>\n",
       "      <th>Question</th>\n",
       "      <th>Answer</th>\n",
       "      <th>Reasoning</th>\n",
       "      <th>ModelResponse</th>\n",
       "      <th>Reference</th>\n",
       "      <th>Predicted</th>\n",
       "    </tr>\n",
       "  </thead>\n",
       "  <tbody>\n",
       "    <tr>\n",
       "      <th>0</th>\n",
       "      <td>mfe8OzzArGc_chunk29_data1_task3</td>\n",
       "      <td>What cause of depression does this show?</td>\n",
       "      <td>This patient shows causes of depression relate...</td>\n",
       "      <td>The text raises a question about feeling at ri...</td>\n",
       "      <td>&lt;THINK&gt;\\n&lt;REASONING&gt;\\nThe audio presents a con...</td>\n",
       "      <td>&lt;REASONING&gt;\\nThe text raises a question about ...</td>\n",
       "      <td>&lt;REASONING&gt;\\nThe audio presents a conversation...</td>\n",
       "    </tr>\n",
       "    <tr>\n",
       "      <th>1</th>\n",
       "      <td>jm6PG989Q_0_chunk78_data1_task1</td>\n",
       "      <td>Does the patient suffer from loneliness?</td>\n",
       "      <td>Yes, the patient suffers from loneliness.</td>\n",
       "      <td>The patient expresses feelings of helplessness...</td>\n",
       "      <td>&lt;THINK&gt;\\n&lt;REASONING&gt;\\nThe question asks whethe...</td>\n",
       "      <td>&lt;REASONING&gt;\\nThe patient expresses feelings of...</td>\n",
       "      <td>&lt;REASONING&gt;\\nThe question asks whether the pat...</td>\n",
       "    </tr>\n",
       "  </tbody>\n",
       "</table>\n",
       "</div>"
      ],
      "text/plain": [
       "                           file_id                                  Question  \\\n",
       "0  mfe8OzzArGc_chunk29_data1_task3  What cause of depression does this show?   \n",
       "1  jm6PG989Q_0_chunk78_data1_task1  Does the patient suffer from loneliness?   \n",
       "\n",
       "                                              Answer  \\\n",
       "0  This patient shows causes of depression relate...   \n",
       "1          Yes, the patient suffers from loneliness.   \n",
       "\n",
       "                                           Reasoning  \\\n",
       "0  The text raises a question about feeling at ri...   \n",
       "1  The patient expresses feelings of helplessness...   \n",
       "\n",
       "                                       ModelResponse  \\\n",
       "0  <THINK>\\n<REASONING>\\nThe audio presents a con...   \n",
       "1  <THINK>\\n<REASONING>\\nThe question asks whethe...   \n",
       "\n",
       "                                           Reference  \\\n",
       "0  <REASONING>\\nThe text raises a question about ...   \n",
       "1  <REASONING>\\nThe patient expresses feelings of...   \n",
       "\n",
       "                                           Predicted  \n",
       "0  <REASONING>\\nThe audio presents a conversation...  \n",
       "1  <REASONING>\\nThe question asks whether the pat...  "
      ]
     },
     "execution_count": 2,
     "metadata": {},
     "output_type": "execute_result"
    }
   ],
   "source": [
    "df = pd.read_csv(\"output_audio_reasoner.csv\")\n",
    "# df['AnsReason'] = ref['Answer'].astype(str) + \" \" + ref['Reasoning'].astype(str)\n",
    "df['Reference'] = \"<REASONING>\\n\" + df['Reasoning'].astype(str) + \"</REASONING>\\n<ANSWER>\\n\" + df['Answer'].astype(str) + \"\\n</ANSWER>\"\n",
    "\n",
    "df['Predicted'] = df['ModelResponse'].apply(lambda x: '\\n'.join(x.split('\\n')[1:]))\n",
    "\n",
    "df.head(2)"
   ]
  },
  {
   "cell_type": "code",
   "execution_count": null,
   "id": "67d799a5-02de-4dad-897c-b3fa56a65a2e",
   "metadata": {},
   "outputs": [],
   "source": [
    "# print(df.iloc[0,1],df.iloc[0,2],df.iloc[0,3],df.iloc[0,4],sep=\"\\n\\n\")\n",
    "print(df.iloc[0,5],df.iloc[0,6],sep=\"\\n\\n\")"
   ]
  },
  {
   "cell_type": "markdown",
   "id": "26c1a0c7-9de1-45d9-8662-d4eb8e040342",
   "metadata": {},
   "source": [
    "## COMET scores"
   ]
  },
  {
   "cell_type": "code",
   "execution_count": 12,
   "id": "7fa1f857-f3b2-4427-8fcc-4ec54940944b",
   "metadata": {},
   "outputs": [
    {
     "name": "stderr",
     "output_type": "stream",
     "text": [
      "/data/amey_2311cs10/anaconda3/envs/condapy312/lib/python3.12/site-packages/tqdm/auto.py:21: TqdmWarning: IProgress not found. Please update jupyter and ipywidgets. See https://ipywidgets.readthedocs.io/en/stable/user_install.html\n",
      "  from .autonotebook import tqdm as notebook_tqdm\n",
      "Fetching 5 files: 100%|████████████████████████████████████████████████████████████████| 5/5 [00:00<00:00, 55043.36it/s]\n",
      "Lightning automatically upgraded your loaded checkpoint from v1.8.3.post1 to v2.5.1.post0. To apply the upgrade to your files permanently, run `python -m pytorch_lightning.utilities.upgrade_checkpoint ../.cache/huggingface/hub/models--Unbabel--wmt22-comet-da/snapshots/2760a223ac957f30acfb18c8aa649b01cf1d75f2/checkpoints/model.ckpt`\n",
      "Encoder model frozen.\n",
      "/data/amey_2311cs10/anaconda3/envs/condapy312/lib/python3.12/site-packages/pytorch_lightning/core/saving.py:195: Found keys that are not in the model state dict but in the checkpoint: ['encoder.model.embeddings.position_ids']\n"
     ]
    }
   ],
   "source": [
    "from comet import download_model, load_from_checkpoint\n",
    "\n",
    "model_path = download_model(\"Unbabel/wmt22-comet-da\")\n",
    "model = load_from_checkpoint(model_path)"
   ]
  },
  {
   "cell_type": "code",
   "execution_count": 13,
   "id": "3a87ca66-5c9b-4a4c-901b-a29f65688464",
   "metadata": {},
   "outputs": [],
   "source": [
    "# Prepare data in COMET format\n",
    "comet_reason_data = [\n",
    "    {\n",
    "        \"src\": \"\",  # Source left empty\n",
    "        \"mt\": df.loc[i, \"Predicted\"],\n",
    "        \"ref\": df.loc[i, \"Reference\"]\n",
    "    }\n",
    "    for i in range(len(df))\n",
    "]"
   ]
  },
  {
   "cell_type": "code",
   "execution_count": null,
   "id": "3e62c3fd-0e1b-41f5-8da8-9b9d40f5115a",
   "metadata": {},
   "outputs": [],
   "source": [
    "comet_reason_data"
   ]
  },
  {
   "cell_type": "code",
   "execution_count": 16,
   "id": "a40bb4b7-7fb4-4a0e-a492-5b950f795050",
   "metadata": {},
   "outputs": [
    {
     "name": "stderr",
     "output_type": "stream",
     "text": [
      "Using default `ModelCheckpoint`. Consider installing `litmodels` package to enable `LitModelCheckpoint` for automatic upload to the Lightning model registry.\n",
      "GPU available: True (cuda), used: True\n",
      "TPU available: False, using: 0 TPU cores\n",
      "HPU available: False, using: 0 HPUs\n",
      "You are using a CUDA device ('NVIDIA H100 PCIe') that has Tensor Cores. To properly utilize them, you should set `torch.set_float32_matmul_precision('medium' | 'high')` which will trade-off precision for performance. For more details, read https://pytorch.org/docs/stable/generated/torch.set_float32_matmul_precision.html#torch.set_float32_matmul_precision\n",
      "LOCAL_RANK: 0 - CUDA_VISIBLE_DEVICES: [0,1]\n",
      "Predicting DataLoader 0: 100%|████████████████████████████████████████████████████████| 225/225 [00:37<00:00,  6.00it/s]\n"
     ]
    },
    {
     "name": "stdout",
     "output_type": "stream",
     "text": [
      "Average COMET score: 0.6721\n"
     ]
    }
   ],
   "source": [
    "model_output = model.predict(comet_reason_data, batch_size=8, gpus=1)  # Set gpus=0 if no GPU\n",
    "\n",
    "# Individual scores\n",
    "comet_scores = model_output.scores\n",
    "\n",
    "# Average score\n",
    "avg_comet = sum(comet_scores) / len(comet_scores)\n",
    "\n",
    "print(f\"Average COMET score: {avg_comet:.4f}\")"
   ]
  },
  {
   "cell_type": "markdown",
   "id": "605df26d-dc29-43d4-bd82-3db243101c29",
   "metadata": {},
   "source": [
    "# Chunked SBERT + Max Matching + Average"
   ]
  },
  {
   "cell_type": "code",
   "execution_count": 3,
   "id": "4c831f14-623d-44f1-97fc-913ccc626c4f",
   "metadata": {},
   "outputs": [
    {
     "name": "stderr",
     "output_type": "stream",
     "text": [
      "[nltk_data] Downloading package punkt to\n",
      "[nltk_data]     /data/amey_2311cs10/nltk_data...\n",
      "[nltk_data]   Package punkt is already up-to-date!\n",
      "/data/amey_2311cs10/anaconda3/envs/condapy312/lib/python3.12/site-packages/tqdm/auto.py:21: TqdmWarning: IProgress not found. Please update jupyter and ipywidgets. See https://ipywidgets.readthedocs.io/en/stable/user_install.html\n",
      "  from .autonotebook import tqdm as notebook_tqdm\n"
     ]
    }
   ],
   "source": [
    "import nltk\n",
    "nltk.download('punkt')\n",
    "import pandas as pd\n",
    "from sentence_transformers import SentenceTransformer, util"
   ]
  },
  {
   "cell_type": "code",
   "execution_count": 4,
   "id": "9b19f91b-67f0-4be9-bec3-604a68b6569e",
   "metadata": {},
   "outputs": [],
   "source": [
    "# Load SBERT model\n",
    "model = SentenceTransformer('all-MiniLM-L6-v2')  # or 'all-mpnet-base-v2' for better quality"
   ]
  },
  {
   "cell_type": "code",
   "execution_count": 5,
   "id": "89c8c624-0de7-4890-a70e-7aee448f26b7",
   "metadata": {},
   "outputs": [],
   "source": [
    "# Fallback if nltk not available\n",
    "def safe_sent_tokenize(text):\n",
    "    try:\n",
    "        import nltk\n",
    "        return nltk.sent_tokenize(text)\n",
    "    except:\n",
    "        # Basic sentence split fallback\n",
    "        return [s.strip() for s in text.split('.') if s.strip()]"
   ]
  },
  {
   "cell_type": "code",
   "execution_count": 7,
   "id": "ca9ca81c-bffb-4f1f-b765-2084f1578cd7",
   "metadata": {},
   "outputs": [
    {
     "name": "stdout",
     "output_type": "stream",
     "text": [
      "Mean SBERT Semantic Similarity: 0.6222\n"
     ]
    }
   ],
   "source": [
    "# SBERT similarity function with fallback tokenization\n",
    "def sbert_similarity(text1, text2):\n",
    "    sents1 = safe_sent_tokenize(text1)\n",
    "    sents2 = safe_sent_tokenize(text2)\n",
    "\n",
    "    emb1 = model.encode(sents1, convert_to_tensor=True)\n",
    "    emb2 = model.encode(sents2, convert_to_tensor=True)\n",
    "\n",
    "    sim_matrix = util.pytorch_cos_sim(emb1, emb2)\n",
    "    ref_to_pred = sim_matrix.max(dim=1).values.mean().item()\n",
    "    pred_to_ref = sim_matrix.max(dim=0).values.mean().item()\n",
    "\n",
    "    return (ref_to_pred + pred_to_ref) / 2\n",
    "\n",
    "# Assuming df has 'reference' and 'predicted' columns\n",
    "similarities = []\n",
    "\n",
    "for idx, row in df.iterrows():\n",
    "    try:\n",
    "        score = sbert_similarity(row['Reference'], row['Predicted'])\n",
    "    except Exception as e:\n",
    "        print(f\"Error at row {idx}: {e}\")\n",
    "        score = None\n",
    "    similarities.append(score)\n",
    "\n",
    "\n",
    "\n",
    "# Add to DataFrame\n",
    "df['sbert_similarity'] = similarities\n",
    "\n",
    "# Compute and print mean similarity (excluding None)\n",
    "valid_scores = [s for s in similarities if s is not None]\n",
    "mean_score = sum(valid_scores) / len(valid_scores)\n",
    "print(f\"Mean SBERT Semantic Similarity: {mean_score:.4f}\")"
   ]
  },
  {
   "cell_type": "code",
   "execution_count": null,
   "id": "cfe02c22-1d4c-4417-8c52-09082438d953",
   "metadata": {},
   "outputs": [],
   "source": []
  }
 ],
 "metadata": {
  "kernelspec": {
   "display_name": "Python 3 (ipykernel)",
   "language": "python",
   "name": "python3"
  },
  "language_info": {
   "codemirror_mode": {
    "name": "ipython",
    "version": 3
   },
   "file_extension": ".py",
   "mimetype": "text/x-python",
   "name": "python",
   "nbconvert_exporter": "python",
   "pygments_lexer": "ipython3",
   "version": "3.12.9"
  }
 },
 "nbformat": 4,
 "nbformat_minor": 5
}
