{
 "cells": [
  {
   "cell_type": "markdown",
   "id": "30706652-2d96-4e24-8952-005bfee5dbfc",
   "metadata": {},
   "source": [
    "## This is the the comparison of the Test Results for GAMA using our data"
   ]
  },
  {
   "cell_type": "code",
   "execution_count": 1,
   "id": "4668e452-5319-4fa5-bb27-5afd83d93827",
   "metadata": {},
   "outputs": [],
   "source": [
    "import json\n",
    "import pandas as pd\n",
    "import re"
   ]
  },
  {
   "cell_type": "code",
   "execution_count": 2,
   "id": "06a5b5f6-3365-4bab-a51e-0e8fa0bb71d1",
   "metadata": {},
   "outputs": [
    {
     "name": "stdout",
     "output_type": "stream",
     "text": [
      "{'audio_id': '/data/amey_2311cs10/AudioLM_baselines/GAMA/test_mentalhealth_16kHz/jm6PG989Q_0_chunk78_data1_task1.wav', 'instruction': 'Does the patient suffer from loneliness?', 'prediction': '<Answer>Yes, the patient suffers from loneliness.</Answer><Reasoning>The patient describes a situation where they are trying to help someone but feel unsupported and ignored. The mention of being told \"you\\'re not going to be there for me\" indicates feelings of isolation and rejection. This suggests that the patient may be experiencing loneliness due to their inability to connect with others when they need it most. The emotional pain associated with these interactions highlights a sense of disconnection and lack of support, which can contribute to feelings of loneliness.</Reasoning>', 'ref': '<Answer>Yes, the patient suffers from loneliness.</Answer><Reasoning>The patient expresses feelings of helplessness and emotional pain related to someone they care about leaving them for another partner. The use of phrases like \"I feel completely helpless\" and \"I can\\'t help everybody\" indicates a sense of isolation and a struggle with the inability to maintain important relationships. This emotional distress and the feeling of being unable to connect with or help others suggest that the patient is experiencing loneliness as they navigate their feelings of loss and disconnection.</Reasoning>'}\n"
     ]
    }
   ],
   "source": [
    "with open('stage5_answers_qformer_all.json', 'r') as f:\n",
    "    data = json.load(f)\n",
    "\n",
    "print(data[1])"
   ]
  },
  {
   "cell_type": "code",
   "execution_count": 3,
   "id": "ea722d60-cc0b-43e9-88a5-44800667aea7",
   "metadata": {},
   "outputs": [
    {
     "data": {
      "text/html": [
       "<div>\n",
       "<style scoped>\n",
       "    .dataframe tbody tr th:only-of-type {\n",
       "        vertical-align: middle;\n",
       "    }\n",
       "\n",
       "    .dataframe tbody tr th {\n",
       "        vertical-align: top;\n",
       "    }\n",
       "\n",
       "    .dataframe thead th {\n",
       "        text-align: right;\n",
       "    }\n",
       "</style>\n",
       "<table border=\"1\" class=\"dataframe\">\n",
       "  <thead>\n",
       "    <tr style=\"text-align: right;\">\n",
       "      <th></th>\n",
       "      <th>audio_id</th>\n",
       "      <th>instruction</th>\n",
       "      <th>pred_ans</th>\n",
       "      <th>pred_reason</th>\n",
       "      <th>ref_ans</th>\n",
       "      <th>ref_reason</th>\n",
       "    </tr>\n",
       "  </thead>\n",
       "  <tbody>\n",
       "    <tr>\n",
       "      <th>0</th>\n",
       "      <td>/data/amey_2311cs10/AudioLM_baselines/GAMA/tes...</td>\n",
       "      <td>What cause of depression does this show?</td>\n",
       "      <td>This patient shows causes of depression relate...</td>\n",
       "      <td>The text suggests a concern about the potentia...</td>\n",
       "      <td>This patient shows causes of depression relate...</td>\n",
       "      <td>The text raises a question about feeling at ri...</td>\n",
       "    </tr>\n",
       "    <tr>\n",
       "      <th>1</th>\n",
       "      <td>/data/amey_2311cs10/AudioLM_baselines/GAMA/tes...</td>\n",
       "      <td>Does the patient suffer from loneliness?</td>\n",
       "      <td>Yes, the patient suffers from loneliness.</td>\n",
       "      <td>The patient describes a situation where they a...</td>\n",
       "      <td>Yes, the patient suffers from loneliness.</td>\n",
       "      <td>The patient expresses feelings of helplessness...</td>\n",
       "    </tr>\n",
       "    <tr>\n",
       "      <th>2</th>\n",
       "      <td>/data/amey_2311cs10/AudioLM_baselines/GAMA/tes...</td>\n",
       "      <td>Does the emotional wellness dimension exist here?</td>\n",
       "      <td>Yes, this wellness dimension exists here.</td>\n",
       "      <td>The patient expresses feelings of sadness and ...</td>\n",
       "      <td>Yes, this wellness dimension exists here.</td>\n",
       "      <td>The individual expresses a recognition of fluc...</td>\n",
       "    </tr>\n",
       "    <tr>\n",
       "      <th>3</th>\n",
       "      <td>/data/amey_2311cs10/AudioLM_baselines/GAMA/tes...</td>\n",
       "      <td>Does the emotional wellness dimension exist here?</td>\n",
       "      <td>Yes, this wellness dimension exists here.</td>\n",
       "      <td>The patient expresses a desire to avoid situat...</td>\n",
       "      <td>Yes, this wellness dimension exists here.</td>\n",
       "      <td>The patient expresses a sense of foreboding an...</td>\n",
       "    </tr>\n",
       "    <tr>\n",
       "      <th>4</th>\n",
       "      <td>/data/amey_2311cs10/AudioLM_baselines/GAMA/tes...</td>\n",
       "      <td>What is the stress cause here?</td>\n",
       "      <td>This patient shows the stress cause related to...</td>\n",
       "      <td>The text indicates that the individual is expe...</td>\n",
       "      <td>This patient shows the stress cause related to...</td>\n",
       "      <td>The text indicates that the patient, Julie, ha...</td>\n",
       "    </tr>\n",
       "  </tbody>\n",
       "</table>\n",
       "</div>"
      ],
      "text/plain": [
       "                                            audio_id  \\\n",
       "0  /data/amey_2311cs10/AudioLM_baselines/GAMA/tes...   \n",
       "1  /data/amey_2311cs10/AudioLM_baselines/GAMA/tes...   \n",
       "2  /data/amey_2311cs10/AudioLM_baselines/GAMA/tes...   \n",
       "3  /data/amey_2311cs10/AudioLM_baselines/GAMA/tes...   \n",
       "4  /data/amey_2311cs10/AudioLM_baselines/GAMA/tes...   \n",
       "\n",
       "                                         instruction  \\\n",
       "0           What cause of depression does this show?   \n",
       "1           Does the patient suffer from loneliness?   \n",
       "2  Does the emotional wellness dimension exist here?   \n",
       "3  Does the emotional wellness dimension exist here?   \n",
       "4                     What is the stress cause here?   \n",
       "\n",
       "                                            pred_ans  \\\n",
       "0  This patient shows causes of depression relate...   \n",
       "1          Yes, the patient suffers from loneliness.   \n",
       "2          Yes, this wellness dimension exists here.   \n",
       "3          Yes, this wellness dimension exists here.   \n",
       "4  This patient shows the stress cause related to...   \n",
       "\n",
       "                                         pred_reason  \\\n",
       "0  The text suggests a concern about the potentia...   \n",
       "1  The patient describes a situation where they a...   \n",
       "2  The patient expresses feelings of sadness and ...   \n",
       "3  The patient expresses a desire to avoid situat...   \n",
       "4  The text indicates that the individual is expe...   \n",
       "\n",
       "                                             ref_ans  \\\n",
       "0  This patient shows causes of depression relate...   \n",
       "1          Yes, the patient suffers from loneliness.   \n",
       "2          Yes, this wellness dimension exists here.   \n",
       "3          Yes, this wellness dimension exists here.   \n",
       "4  This patient shows the stress cause related to...   \n",
       "\n",
       "                                          ref_reason  \n",
       "0  The text raises a question about feeling at ri...  \n",
       "1  The patient expresses feelings of helplessness...  \n",
       "2  The individual expresses a recognition of fluc...  \n",
       "3  The patient expresses a sense of foreboding an...  \n",
       "4  The text indicates that the patient, Julie, ha...  "
      ]
     },
     "execution_count": 3,
     "metadata": {},
     "output_type": "execute_result"
    }
   ],
   "source": [
    "def extract_between_tags(text, tag):\n",
    "    pattern = fr'<{tag}>(.*?)</{tag}>'\n",
    "    match = re.search(pattern, text, re.DOTALL)\n",
    "    return match.group(1).strip() if match else \"\"\n",
    "\n",
    "# Process rows\n",
    "rows = []\n",
    "for item in data:\n",
    "    audio_id = item['audio_id']\n",
    "    instruction = item['instruction']\n",
    "    pred_ans = extract_between_tags(item['prediction'], 'Answer')\n",
    "    pred_reason = extract_between_tags(item['prediction'], 'Reasoning')\n",
    "    ref_ans = extract_between_tags(item['ref'], 'Answer')\n",
    "    ref_reason = extract_between_tags(item['ref'], 'Reasoning')\n",
    "    \n",
    "    rows.append({\n",
    "        'audio_id': audio_id,\n",
    "        'instruction': instruction,\n",
    "        'pred_ans': pred_ans,\n",
    "        'pred_reason': pred_reason,\n",
    "        'ref_ans': ref_ans,\n",
    "        'ref_reason': ref_reason\n",
    "    })\n",
    "\n",
    "# Convert to DataFrame\n",
    "df = pd.DataFrame(rows)\n",
    "\n",
    "# Print first row of the DataFrame\n",
    "df.head(5)"
   ]
  },
  {
   "cell_type": "code",
   "execution_count": 4,
   "id": "86cebfe5-42d8-4fe9-9e65-3f7448dd33c9",
   "metadata": {},
   "outputs": [],
   "source": [
    "# save as csv\n",
    "df.to_csv(\"gama_test_results.csv\", index=False)"
   ]
  },
  {
   "cell_type": "markdown",
   "id": "2facb7d7-db09-45a8-be7f-09befb07eeb7",
   "metadata": {},
   "source": [
    "## Calculate BLEU and COMET scores"
   ]
  },
  {
   "cell_type": "code",
   "execution_count": 18,
   "id": "c39b63c5-6eeb-4a52-a7fa-fe885bf7fc35",
   "metadata": {},
   "outputs": [],
   "source": [
    "from nltk.translate.bleu_score import sentence_bleu, SmoothingFunction\n",
    "from nltk.translate.bleu_score import corpus_bleu, SmoothingFunction\n",
    "\n",
    "smoothie = SmoothingFunction().method4\n",
    "\n",
    "# from comet import download_model, load_from_checkpoint"
   ]
  },
  {
   "cell_type": "code",
   "execution_count": 19,
   "id": "fe92f48e-5cd5-44ac-a93b-e30e52dddb61",
   "metadata": {},
   "outputs": [],
   "source": [
    "# # BLEU Score Calculation\n",
    "# def compute_bleu(reference, prediction):\n",
    "#     smoothie = SmoothingFunction().method4\n",
    "#     return sentence_bleu([reference.split()], prediction.split(), smoothing_function=smoothie)\n",
    "\n",
    "# df['bleu'] = df.apply(lambda row: compute_bleu(row['ref_ans'], row['pred_ans']), axis=1)"
   ]
  },
  {
   "cell_type": "markdown",
   "id": "84ea5501-e53a-48b8-90f6-dd62cc42832e",
   "metadata": {},
   "source": [
    "#### For Answer part"
   ]
  },
  {
   "cell_type": "code",
   "execution_count": 16,
   "id": "dfb36815-d32c-4315-88f2-2ebf7b69927f",
   "metadata": {},
   "outputs": [
    {
     "name": "stdout",
     "output_type": "stream",
     "text": [
      "BLEU-1: 0.8251\n",
      "BLEU-2: 0.8007\n",
      "BLEU-3: 0.7782\n",
      "BLEU-4: 0.7547\n"
     ]
    }
   ],
   "source": [
    "# Convert to list of tokenized references and hypotheses\n",
    "references = [[ref.split()] for ref in df['ref_ans']]\n",
    "hypotheses = [pred.split() for pred in df['pred_ans']]\n",
    "\n",
    "# Compute BLEU scores\n",
    "bleu1 = corpus_bleu(references, hypotheses, weights=(1, 0, 0, 0), smoothing_function=smoothie)\n",
    "bleu2 = corpus_bleu(references, hypotheses, weights=(0.5, 0.5, 0, 0), smoothing_function=smoothie)\n",
    "bleu3 = corpus_bleu(references, hypotheses, weights=(0.33, 0.33, 0.33, 0), smoothing_function=smoothie)\n",
    "bleu4 = corpus_bleu(references, hypotheses, weights=(0.25, 0.25, 0.25, 0.25), smoothing_function=smoothie)\n",
    "\n",
    "print(f\"BLEU-1: {bleu1:.4f}\")\n",
    "print(f\"BLEU-2: {bleu2:.4f}\")\n",
    "print(f\"BLEU-3: {bleu3:.4f}\")\n",
    "print(f\"BLEU-4: {bleu4:.4f}\")"
   ]
  },
  {
   "cell_type": "markdown",
   "id": "26d9d700-be8d-45bc-8539-4e9c2c2f27d6",
   "metadata": {},
   "source": [
    "The small decline across BLEU-1 → BLEU-4 is expected and shows it maintains context across longer spans."
   ]
  },
  {
   "cell_type": "markdown",
   "id": "faba6a36-b998-456a-bd4d-56a3682608f6",
   "metadata": {},
   "source": [
    "#### For Reasoning part"
   ]
  },
  {
   "cell_type": "code",
   "execution_count": 17,
   "id": "e1bdf2ba-636c-45b1-afad-2fe365290515",
   "metadata": {},
   "outputs": [
    {
     "name": "stdout",
     "output_type": "stream",
     "text": [
      "BLEU-1: 0.4027\n",
      "BLEU-2: 0.2334\n",
      "BLEU-3: 0.1535\n",
      "BLEU-4: 0.1030\n"
     ]
    }
   ],
   "source": [
    "# Convert to list of tokenized references and hypotheses\n",
    "references = [[ref.split()] for ref in df['ref_reason']]\n",
    "hypotheses = [pred.split() for pred in df['pred_reason']]\n",
    "\n",
    "# Compute BLEU scores\n",
    "bleu1 = corpus_bleu(references, hypotheses, weights=(1, 0, 0, 0), smoothing_function=smoothie)\n",
    "bleu2 = corpus_bleu(references, hypotheses, weights=(0.5, 0.5, 0, 0), smoothing_function=smoothie)\n",
    "bleu3 = corpus_bleu(references, hypotheses, weights=(0.33, 0.33, 0.33, 0), smoothing_function=smoothie)\n",
    "bleu4 = corpus_bleu(references, hypotheses, weights=(0.25, 0.25, 0.25, 0.25), smoothing_function=smoothie)\n",
    "\n",
    "print(f\"BLEU-1: {bleu1:.4f}\")\n",
    "print(f\"BLEU-2: {bleu2:.4f}\")\n",
    "print(f\"BLEU-3: {bleu3:.4f}\")\n",
    "print(f\"BLEU-4: {bleu4:.4f}\")"
   ]
  },
  {
   "cell_type": "markdown",
   "id": "521060c6-c3ee-40ed-aedf-e325d639983f",
   "metadata": {},
   "source": [
    "#### Interpretation\n",
    "<span style=\"color:red\">\n",
    "Model struggles to get longer, fluent, or syntactically correct phrases that match the reference. The model may understand vocabulary but not generate fluent or grammatically correct phrases. Could be an issue with fluency, word order, or context understanding.\n",
    "</span> "
   ]
  },
  {
   "cell_type": "markdown",
   "id": "c17a0d05-6415-4e7c-9b6e-f709b3d665a0",
   "metadata": {},
   "source": [
    "# Comet scores"
   ]
  },
  {
   "cell_type": "code",
   "execution_count": 5,
   "id": "93b4878e-22d7-463b-9232-686c290582c1",
   "metadata": {},
   "outputs": [
    {
     "name": "stderr",
     "output_type": "stream",
     "text": [
      "/data/amey_2311cs10/anaconda3/envs/condapy312/lib/python3.12/site-packages/tqdm/auto.py:21: TqdmWarning: IProgress not found. Please update jupyter and ipywidgets. See https://ipywidgets.readthedocs.io/en/stable/user_install.html\n",
      "  from .autonotebook import tqdm as notebook_tqdm\n",
      "Fetching 5 files: 100%|████████████████████████| 5/5 [00:00<00:00, 67001.66it/s]\n",
      "Lightning automatically upgraded your loaded checkpoint from v1.8.3.post1 to v2.5.1.post0. To apply the upgrade to your files permanently, run `python -m pytorch_lightning.utilities.upgrade_checkpoint ../.cache/huggingface/hub/models--Unbabel--wmt22-comet-da/snapshots/2760a223ac957f30acfb18c8aa649b01cf1d75f2/checkpoints/model.ckpt`\n",
      "Encoder model frozen.\n",
      "/data/amey_2311cs10/anaconda3/envs/condapy312/lib/python3.12/site-packages/pytorch_lightning/core/saving.py:195: Found keys that are not in the model state dict but in the checkpoint: ['encoder.model.embeddings.position_ids']\n"
     ]
    }
   ],
   "source": [
    "from comet import download_model, load_from_checkpoint\n",
    "\n",
    "model_path = download_model(\"Unbabel/wmt22-comet-da\")\n",
    "model = load_from_checkpoint(model_path)\n"
   ]
  },
  {
   "cell_type": "markdown",
   "id": "0f472206-a24f-422c-9a90-7e628fa2da96",
   "metadata": {},
   "source": [
    "#### Comet for Answer part"
   ]
  },
  {
   "cell_type": "code",
   "execution_count": 24,
   "id": "32be6569-e94b-4e2e-ac45-a2dafbb17f66",
   "metadata": {},
   "outputs": [],
   "source": [
    "comet_ans_data = [\n",
    "    {\"src\": \"\", \"mt\": pred, \"ref\": ref}\n",
    "    for pred, ref in zip(df[\"pred_ans\"], df[\"ref_ans\"])\n",
    "]"
   ]
  },
  {
   "cell_type": "code",
   "execution_count": 26,
   "id": "e33d6785-40e8-4a70-9de5-2bdaabca7d0a",
   "metadata": {},
   "outputs": [
    {
     "name": "stderr",
     "output_type": "stream",
     "text": [
      "Using default `ModelCheckpoint`. Consider installing `litmodels` package to enable `LitModelCheckpoint` for automatic upload to the Lightning model registry.\n",
      "GPU available: True (cuda), used: True\n",
      "TPU available: False, using: 0 TPU cores\n",
      "HPU available: False, using: 0 HPUs\n",
      "You are using a CUDA device ('NVIDIA H100 PCIe') that has Tensor Cores. To properly utilize them, you should set `torch.set_float32_matmul_precision('medium' | 'high')` which will trade-off precision for performance. For more details, read https://pytorch.org/docs/stable/generated/torch.set_float32_matmul_precision.html#torch.set_float32_matmul_precision\n",
      "LOCAL_RANK: 0 - CUDA_VISIBLE_DEVICES: [0,1]\n",
      "Predicting DataLoader 0: 100%|████████████████| 225/225 [00:08<00:00, 26.58it/s]\n"
     ]
    },
    {
     "name": "stdout",
     "output_type": "stream",
     "text": [
      "Average COMET score: 0.8836\n"
     ]
    }
   ],
   "source": [
    "model_output = model.predict(comet_ans_data, batch_size=8, gpus=1)  # Set gpus=0 if no GPU\n",
    "\n",
    "# Individual scores\n",
    "comet_scores = model_output.scores\n",
    "\n",
    "# Average score\n",
    "avg_comet = sum(comet_scores) / len(comet_scores)\n",
    "\n",
    "print(f\"Average COMET score: {avg_comet:.4f}\")"
   ]
  },
  {
   "cell_type": "markdown",
   "id": "1885b38b-7a20-4758-8bf4-fb0a2fa0ff46",
   "metadata": {},
   "source": [
    "#### Comet for Reasoning part"
   ]
  },
  {
   "cell_type": "code",
   "execution_count": 29,
   "id": "c4bda488-fd4f-46fa-8b3b-dfe05b8ab7cf",
   "metadata": {},
   "outputs": [],
   "source": [
    "comet_reason_data = [\n",
    "    {\"src\": \"\", \"mt\": pred, \"ref\": ref}\n",
    "    for pred, ref in zip(df[\"pred_reason\"], df[\"ref_reason\"])\n",
    "]"
   ]
  },
  {
   "cell_type": "code",
   "execution_count": 31,
   "id": "94e0b8b5-dc06-4d59-8de9-697c66dd0f60",
   "metadata": {},
   "outputs": [
    {
     "name": "stderr",
     "output_type": "stream",
     "text": [
      "Using default `ModelCheckpoint`. Consider installing `litmodels` package to enable `LitModelCheckpoint` for automatic upload to the Lightning model registry.\n",
      "GPU available: True (cuda), used: True\n",
      "TPU available: False, using: 0 TPU cores\n",
      "HPU available: False, using: 0 HPUs\n",
      "LOCAL_RANK: 0 - CUDA_VISIBLE_DEVICES: [0,1]\n",
      "Predicting DataLoader 0: 100%|████████████████| 225/225 [00:17<00:00, 13.19it/s]\n"
     ]
    },
    {
     "name": "stdout",
     "output_type": "stream",
     "text": [
      "Average COMET score: 0.7157\n"
     ]
    }
   ],
   "source": [
    "model_output = model.predict(comet_reason_data, batch_size=8, gpus=1)  # Set gpus=0 if no GPU\n",
    "\n",
    "# Individual scores\n",
    "comet_scores = model_output.scores\n",
    "\n",
    "# Average score\n",
    "avg_comet = sum(comet_scores) / len(comet_scores)\n",
    "\n",
    "print(f\"Average COMET score: {avg_comet:.4f}\")"
   ]
  },
  {
   "cell_type": "markdown",
   "id": "bc2b225f-5c54-4595-8bc3-20fc938c978e",
   "metadata": {},
   "source": [
    "# COMET on both Answer and Reasoning combined"
   ]
  },
  {
   "cell_type": "code",
   "execution_count": 3,
   "id": "6b4cbd6c-684d-4d2e-9525-7ee53f61577b",
   "metadata": {},
   "outputs": [
    {
     "data": {
      "text/html": [
       "<div>\n",
       "<style scoped>\n",
       "    .dataframe tbody tr th:only-of-type {\n",
       "        vertical-align: middle;\n",
       "    }\n",
       "\n",
       "    .dataframe tbody tr th {\n",
       "        vertical-align: top;\n",
       "    }\n",
       "\n",
       "    .dataframe thead th {\n",
       "        text-align: right;\n",
       "    }\n",
       "</style>\n",
       "<table border=\"1\" class=\"dataframe\">\n",
       "  <thead>\n",
       "    <tr style=\"text-align: right;\">\n",
       "      <th></th>\n",
       "      <th>audio_id</th>\n",
       "      <th>instruction</th>\n",
       "      <th>pred</th>\n",
       "      <th>ref</th>\n",
       "    </tr>\n",
       "  </thead>\n",
       "  <tbody>\n",
       "    <tr>\n",
       "      <th>0</th>\n",
       "      <td>/data/amey_2311cs10/AudioLM_baselines/GAMA/tes...</td>\n",
       "      <td>What cause of depression does this show?</td>\n",
       "      <td>&lt;Answer&gt;This patient shows causes of depressio...</td>\n",
       "      <td>&lt;Answer&gt;This patient shows causes of depressio...</td>\n",
       "    </tr>\n",
       "    <tr>\n",
       "      <th>1</th>\n",
       "      <td>/data/amey_2311cs10/AudioLM_baselines/GAMA/tes...</td>\n",
       "      <td>Does the patient suffer from loneliness?</td>\n",
       "      <td>&lt;Answer&gt;Yes, the patient suffers from loneline...</td>\n",
       "      <td>&lt;Answer&gt;Yes, the patient suffers from loneline...</td>\n",
       "    </tr>\n",
       "    <tr>\n",
       "      <th>2</th>\n",
       "      <td>/data/amey_2311cs10/AudioLM_baselines/GAMA/tes...</td>\n",
       "      <td>Does the emotional wellness dimension exist here?</td>\n",
       "      <td>&lt;Answer&gt;Yes, this wellness dimension exists he...</td>\n",
       "      <td>&lt;Answer&gt;Yes, this wellness dimension exists he...</td>\n",
       "    </tr>\n",
       "    <tr>\n",
       "      <th>3</th>\n",
       "      <td>/data/amey_2311cs10/AudioLM_baselines/GAMA/tes...</td>\n",
       "      <td>Does the emotional wellness dimension exist here?</td>\n",
       "      <td>&lt;Answer&gt;Yes, this wellness dimension exists he...</td>\n",
       "      <td>&lt;Answer&gt;Yes, this wellness dimension exists he...</td>\n",
       "    </tr>\n",
       "    <tr>\n",
       "      <th>4</th>\n",
       "      <td>/data/amey_2311cs10/AudioLM_baselines/GAMA/tes...</td>\n",
       "      <td>What is the stress cause here?</td>\n",
       "      <td>&lt;Answer&gt;This patient shows the stress cause re...</td>\n",
       "      <td>&lt;Answer&gt;This patient shows the stress cause re...</td>\n",
       "    </tr>\n",
       "  </tbody>\n",
       "</table>\n",
       "</div>"
      ],
      "text/plain": [
       "                                            audio_id  \\\n",
       "0  /data/amey_2311cs10/AudioLM_baselines/GAMA/tes...   \n",
       "1  /data/amey_2311cs10/AudioLM_baselines/GAMA/tes...   \n",
       "2  /data/amey_2311cs10/AudioLM_baselines/GAMA/tes...   \n",
       "3  /data/amey_2311cs10/AudioLM_baselines/GAMA/tes...   \n",
       "4  /data/amey_2311cs10/AudioLM_baselines/GAMA/tes...   \n",
       "\n",
       "                                         instruction  \\\n",
       "0           What cause of depression does this show?   \n",
       "1           Does the patient suffer from loneliness?   \n",
       "2  Does the emotional wellness dimension exist here?   \n",
       "3  Does the emotional wellness dimension exist here?   \n",
       "4                     What is the stress cause here?   \n",
       "\n",
       "                                                pred  \\\n",
       "0  <Answer>This patient shows causes of depressio...   \n",
       "1  <Answer>Yes, the patient suffers from loneline...   \n",
       "2  <Answer>Yes, this wellness dimension exists he...   \n",
       "3  <Answer>Yes, this wellness dimension exists he...   \n",
       "4  <Answer>This patient shows the stress cause re...   \n",
       "\n",
       "                                                 ref  \n",
       "0  <Answer>This patient shows causes of depressio...  \n",
       "1  <Answer>Yes, the patient suffers from loneline...  \n",
       "2  <Answer>Yes, this wellness dimension exists he...  \n",
       "3  <Answer>Yes, this wellness dimension exists he...  \n",
       "4  <Answer>This patient shows the stress cause re...  "
      ]
     },
     "execution_count": 3,
     "metadata": {},
     "output_type": "execute_result"
    }
   ],
   "source": [
    "# Process rows\n",
    "rows = []\n",
    "for item in data:\n",
    "    audio_id = item['audio_id']\n",
    "    instruction = item['instruction']\n",
    "    pred = item['prediction']\n",
    "    ref = item['ref']\n",
    "    \n",
    "    rows.append({\n",
    "        'audio_id': audio_id,\n",
    "        'instruction': instruction,\n",
    "        'pred': pred,\n",
    "        'ref': ref\n",
    "    })\n",
    "\n",
    "# Convert to DataFrame\n",
    "df = pd.DataFrame(rows)\n",
    "\n",
    "# Print first row of the DataFrame\n",
    "df.head(5)"
   ]
  },
  {
   "cell_type": "code",
   "execution_count": 6,
   "id": "c23ce643-0d77-472f-9d68-9ed72694f002",
   "metadata": {},
   "outputs": [],
   "source": [
    "# Prepare data in COMET format\n",
    "comet_data = [\n",
    "    {\n",
    "        \"src\": \"\",  # Source left empty\n",
    "        \"mt\": df.loc[i, \"pred\"],\n",
    "        \"ref\": df.loc[i, \"ref\"]\n",
    "    }\n",
    "    for i in range(len(df))\n",
    "]"
   ]
  },
  {
   "cell_type": "code",
   "execution_count": 7,
   "id": "429f66b6-d372-4593-a3a2-582309cd8b14",
   "metadata": {},
   "outputs": [
    {
     "name": "stderr",
     "output_type": "stream",
     "text": [
      "Using default `ModelCheckpoint`. Consider installing `litmodels` package to enable `LitModelCheckpoint` for automatic upload to the Lightning model registry.\n",
      "GPU available: True (cuda), used: True\n",
      "TPU available: False, using: 0 TPU cores\n",
      "HPU available: False, using: 0 HPUs\n",
      "You are using a CUDA device ('NVIDIA H100 PCIe') that has Tensor Cores. To properly utilize them, you should set `torch.set_float32_matmul_precision('medium' | 'high')` which will trade-off precision for performance. For more details, read https://pytorch.org/docs/stable/generated/torch.set_float32_matmul_precision.html#torch.set_float32_matmul_precision\n",
      "LOCAL_RANK: 0 - CUDA_VISIBLE_DEVICES: [0,1]\n",
      "Predicting DataLoader 0: 100%|████████████████| 225/225 [00:19<00:00, 11.39it/s]\n"
     ]
    },
    {
     "name": "stdout",
     "output_type": "stream",
     "text": [
      "Average COMET score: 0.7524\n"
     ]
    }
   ],
   "source": [
    "model_output = model.predict(comet_data, batch_size=8, gpus=1)  # Set gpus=0 if no GPU\n",
    "\n",
    "# Individual scores\n",
    "comet_scores = model_output.scores\n",
    "\n",
    "# Average score\n",
    "avg_comet = sum(comet_scores) / len(comet_scores)\n",
    "\n",
    "print(f\"Average COMET score: {avg_comet:.4f}\")"
   ]
  },
  {
   "cell_type": "markdown",
   "id": "5fee9892-8cc8-4066-9ca8-98c5c7e0c73e",
   "metadata": {},
   "source": [
    "# Chunked SBERT + Max Matching + Average"
   ]
  },
  {
   "cell_type": "code",
   "execution_count": 7,
   "id": "d1f578ca-2e52-4fce-8b33-adbd2787f9e6",
   "metadata": {},
   "outputs": [
    {
     "name": "stderr",
     "output_type": "stream",
     "text": [
      "[nltk_data] Downloading package punkt to\n",
      "[nltk_data]     /data/amey_2311cs10/nltk_data...\n",
      "[nltk_data]   Package punkt is already up-to-date!\n"
     ]
    }
   ],
   "source": [
    "import nltk\n",
    "nltk.download('punkt')\n",
    "import pandas as pd\n",
    "from sentence_transformers import SentenceTransformer, util\n",
    "from tqdm import tqdm"
   ]
  },
  {
   "cell_type": "code",
   "execution_count": 5,
   "id": "eab397bb-2533-40ed-a886-c5cbdf07ec64",
   "metadata": {},
   "outputs": [],
   "source": [
    "# Load SBERT model\n",
    "model = SentenceTransformer('all-MiniLM-L6-v2')  # or 'all-mpnet-base-v2' for better quality"
   ]
  },
  {
   "cell_type": "code",
   "execution_count": 8,
   "id": "2862be85-0576-41be-89ba-8ce76592793f",
   "metadata": {},
   "outputs": [],
   "source": [
    "# Fallback if nltk not available\n",
    "def safe_sent_tokenize(text):\n",
    "    try:\n",
    "        import nltk\n",
    "        return nltk.sent_tokenize(text)\n",
    "    except:\n",
    "        # Basic sentence split fallback\n",
    "        return [s.strip() for s in text.split('.') if s.strip()]"
   ]
  },
  {
   "cell_type": "code",
   "execution_count": 9,
   "id": "70e29faa-686e-4f5c-8017-81af16c3ca89",
   "metadata": {},
   "outputs": [
    {
     "name": "stderr",
     "output_type": "stream",
     "text": [
      "100%|███████████████████████████████████████| 1800/1800 [00:21<00:00, 82.24it/s]"
     ]
    },
    {
     "name": "stdout",
     "output_type": "stream",
     "text": [
      "Mean SBERT Semantic Similarity: 0.7419\n"
     ]
    },
    {
     "name": "stderr",
     "output_type": "stream",
     "text": [
      "\n"
     ]
    }
   ],
   "source": [
    "# SBERT similarity function with fallback tokenization\n",
    "def sbert_similarity(text1, text2):\n",
    "    sents1 = safe_sent_tokenize(text1)\n",
    "    sents2 = safe_sent_tokenize(text2)\n",
    "\n",
    "    emb1 = model.encode(sents1, convert_to_tensor=True)\n",
    "    emb2 = model.encode(sents2, convert_to_tensor=True)\n",
    "\n",
    "    sim_matrix = util.pytorch_cos_sim(emb1, emb2)\n",
    "    ref_to_pred = sim_matrix.max(dim=1).values.mean().item()\n",
    "    pred_to_ref = sim_matrix.max(dim=0).values.mean().item()\n",
    "\n",
    "    return (ref_to_pred + pred_to_ref) / 2\n",
    "\n",
    "# Assuming df has 'reference' and 'predicted' columns\n",
    "similarities = []\n",
    "\n",
    "for _, row in tqdm(df.iterrows(), total=len(df)):\n",
    "    try:\n",
    "        score = sbert_similarity(row['ref'], row['pred'])\n",
    "    except Exception as e:\n",
    "        print(f\"Error at row {idx}: {e}\")\n",
    "        score = None\n",
    "    similarities.append(score)\n",
    "\n",
    "\n",
    "\n",
    "# Add to DataFrame\n",
    "df['sbert_similarity'] = similarities\n",
    "\n",
    "# Compute and print mean similarity (excluding None)\n",
    "valid_scores = [s for s in similarities if s is not None]\n",
    "mean_score = sum(valid_scores) / len(valid_scores)\n",
    "print(f\"Mean SBERT Semantic Similarity: {mean_score:.4f}\")"
   ]
  },
  {
   "cell_type": "code",
   "execution_count": null,
   "id": "3df02030-d470-4643-b55b-9e4bc39270e4",
   "metadata": {},
   "outputs": [],
   "source": []
  }
 ],
 "metadata": {
  "kernelspec": {
   "display_name": "condapy312",
   "language": "python",
   "name": "condapy312"
  },
  "language_info": {
   "codemirror_mode": {
    "name": "ipython",
    "version": 3
   },
   "file_extension": ".py",
   "mimetype": "text/x-python",
   "name": "python",
   "nbconvert_exporter": "python",
   "pygments_lexer": "ipython3",
   "version": "3.12.9"
  }
 },
 "nbformat": 4,
 "nbformat_minor": 5
}
