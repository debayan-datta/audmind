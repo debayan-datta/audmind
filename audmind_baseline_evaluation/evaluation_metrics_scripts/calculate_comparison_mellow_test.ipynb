{
 "cells": [
  {
   "cell_type": "markdown",
   "id": "f9bae831-a605-45a0-9ace-ee62fe6a34be",
   "metadata": {},
   "source": [
    "# This is the the comparison of the Test Results for Mellow using our data\n",
    "### includes both Answer and Reasoning"
   ]
  },
  {
   "cell_type": "code",
   "execution_count": 1,
   "id": "f3811ccd-d6f0-4805-b5d7-ae7127300785",
   "metadata": {},
   "outputs": [],
   "source": [
    "import pandas as pd"
   ]
  },
  {
   "cell_type": "code",
   "execution_count": 2,
   "id": "ca866777-1491-4626-88fa-2c0f2b2ff20a",
   "metadata": {},
   "outputs": [],
   "source": [
    "df = pd.read_csv(\"mellow_audmind_output.csv\")"
   ]
  },
  {
   "cell_type": "markdown",
   "id": "112f0670-9701-4d66-ae2e-21722dd8d484",
   "metadata": {},
   "source": [
    "### COMET scores"
   ]
  },
  {
   "cell_type": "code",
   "execution_count": 5,
   "id": "a0ae3397-5fd2-480b-8586-a41609c8c7f3",
   "metadata": {},
   "outputs": [
    {
     "name": "stderr",
     "output_type": "stream",
     "text": [
      "/data/amey_2311cs10/anaconda3/envs/condapy312/lib/python3.12/site-packages/tqdm/auto.py:21: TqdmWarning: IProgress not found. Please update jupyter and ipywidgets. See https://ipywidgets.readthedocs.io/en/stable/user_install.html\n",
      "  from .autonotebook import tqdm as notebook_tqdm\n",
      "Fetching 5 files: 100%|████████████████████████| 5/5 [00:00<00:00, 64927.31it/s]\n",
      "Lightning automatically upgraded your loaded checkpoint from v1.8.3.post1 to v2.5.1.post0. To apply the upgrade to your files permanently, run `python -m pytorch_lightning.utilities.upgrade_checkpoint ../.cache/huggingface/hub/models--Unbabel--wmt22-comet-da/snapshots/2760a223ac957f30acfb18c8aa649b01cf1d75f2/checkpoints/model.ckpt`\n",
      "Encoder model frozen.\n",
      "/data/amey_2311cs10/anaconda3/envs/condapy312/lib/python3.12/site-packages/pytorch_lightning/core/saving.py:195: Found keys that are not in the model state dict but in the checkpoint: ['encoder.model.embeddings.position_ids']\n"
     ]
    }
   ],
   "source": [
    "from comet import download_model, load_from_checkpoint\n",
    "\n",
    "model_path = download_model(\"Unbabel/wmt22-comet-da\")\n",
    "model = load_from_checkpoint(model_path)"
   ]
  },
  {
   "cell_type": "code",
   "execution_count": 8,
   "id": "66041e7d-c0bc-41db-a992-663ce663eed6",
   "metadata": {},
   "outputs": [],
   "source": [
    "# Prepare data in COMET format\n",
    "comet_reason_data = [\n",
    "    {\n",
    "        \"src\": \"\",  # Source left empty\n",
    "        \"mt\": df.loc[i, \"predicted\"],\n",
    "        \"ref\": df.loc[i, \"reference\"]\n",
    "    }\n",
    "    for i in range(len(df))\n",
    "]"
   ]
  },
  {
   "cell_type": "code",
   "execution_count": 9,
   "id": "588f9605-77a1-403d-a64a-dfd6f68ce048",
   "metadata": {},
   "outputs": [
    {
     "name": "stderr",
     "output_type": "stream",
     "text": [
      "Using default `ModelCheckpoint`. Consider installing `litmodels` package to enable `LitModelCheckpoint` for automatic upload to the Lightning model registry.\n",
      "GPU available: True (cuda), used: True\n",
      "TPU available: False, using: 0 TPU cores\n",
      "HPU available: False, using: 0 HPUs\n",
      "You are using a CUDA device ('NVIDIA H100 PCIe') that has Tensor Cores. To properly utilize them, you should set `torch.set_float32_matmul_precision('medium' | 'high')` which will trade-off precision for performance. For more details, read https://pytorch.org/docs/stable/generated/torch.set_float32_matmul_precision.html#torch.set_float32_matmul_precision\n",
      "LOCAL_RANK: 0 - CUDA_VISIBLE_DEVICES: [0,1]\n",
      "Predicting DataLoader 0: 100%|████████████████| 225/225 [00:14<00:00, 15.13it/s]\n"
     ]
    },
    {
     "name": "stdout",
     "output_type": "stream",
     "text": [
      "Average COMET score: 0.4918\n"
     ]
    }
   ],
   "source": [
    "model_output = model.predict(comet_reason_data, batch_size=8, gpus=1)  # Set gpus=0 if no GPU\n",
    "\n",
    "# Individual scores\n",
    "comet_scores = model_output.scores\n",
    "\n",
    "# Average score\n",
    "avg_comet = sum(comet_scores) / len(comet_scores)\n",
    "\n",
    "print(f\"Average COMET score: {avg_comet:.4f}\")"
   ]
  },
  {
   "cell_type": "markdown",
   "id": "a4f11597-6704-41f8-989c-9b970bfa9123",
   "metadata": {},
   "source": [
    "### Chunked SBERT + Max Matching + Average"
   ]
  },
  {
   "cell_type": "code",
   "execution_count": 9,
   "id": "2300fcd1-d416-431d-8cd1-6d499d82baf6",
   "metadata": {},
   "outputs": [
    {
     "name": "stderr",
     "output_type": "stream",
     "text": [
      "[nltk_data] Downloading package punkt to\n",
      "[nltk_data]     /data/amey_2311cs10/nltk_data...\n",
      "[nltk_data]   Package punkt is already up-to-date!\n"
     ]
    },
    {
     "data": {
      "text/plain": [
       "True"
      ]
     },
     "execution_count": 9,
     "metadata": {},
     "output_type": "execute_result"
    }
   ],
   "source": [
    "import nltk\n",
    "nltk.download('punkt')"
   ]
  },
  {
   "cell_type": "code",
   "execution_count": 10,
   "id": "a6692efe-9459-46de-bea9-9064f0aa299a",
   "metadata": {},
   "outputs": [],
   "source": [
    "import pandas as pd\n",
    "from sentence_transformers import SentenceTransformer, util"
   ]
  },
  {
   "cell_type": "code",
   "execution_count": 11,
   "id": "183a1574-ec79-4482-9d45-fa1be24bf818",
   "metadata": {},
   "outputs": [],
   "source": [
    "# Load SBERT model\n",
    "model = SentenceTransformer('all-MiniLM-L6-v2')  # or 'all-mpnet-base-v2' for better quality"
   ]
  },
  {
   "cell_type": "code",
   "execution_count": 12,
   "id": "d5bfbc1a-642e-44b8-9fa9-1fde86646902",
   "metadata": {},
   "outputs": [],
   "source": [
    "# Fallback if nltk not available\n",
    "def safe_sent_tokenize(text):\n",
    "    try:\n",
    "        import nltk\n",
    "        return nltk.sent_tokenize(text)\n",
    "    except:\n",
    "        # Basic sentence split fallback\n",
    "        return [s.strip() for s in text.split('.') if s.strip()]"
   ]
  },
  {
   "cell_type": "code",
   "execution_count": 13,
   "id": "fd939f1c-067e-4e0e-a215-9e3f4accaca4",
   "metadata": {},
   "outputs": [
    {
     "name": "stdout",
     "output_type": "stream",
     "text": [
      "\n",
      "Mean SBERT Semantic Similarity: 0.3479\n"
     ]
    }
   ],
   "source": [
    "# SBERT similarity function with fallback tokenization\n",
    "def sbert_similarity(text1, text2):\n",
    "    sents1 = safe_sent_tokenize(text1)\n",
    "    sents2 = safe_sent_tokenize(text2)\n",
    "\n",
    "    emb1 = model.encode(sents1, convert_to_tensor=True)\n",
    "    emb2 = model.encode(sents2, convert_to_tensor=True)\n",
    "\n",
    "    sim_matrix = util.pytorch_cos_sim(emb1, emb2)\n",
    "    ref_to_pred = sim_matrix.max(dim=1).values.mean().item()\n",
    "    pred_to_ref = sim_matrix.max(dim=0).values.mean().item()\n",
    "\n",
    "    return (ref_to_pred + pred_to_ref) / 2\n",
    "\n",
    "# Assuming df has 'reference' and 'predicted' columns\n",
    "similarities = []\n",
    "\n",
    "for idx, row in df.iterrows():\n",
    "    try:\n",
    "        score = sbert_similarity(row['reference'], row['predicted'])\n",
    "    except Exception as e:\n",
    "        print(f\"Error at row {idx}: {e}\")\n",
    "        score = None\n",
    "    similarities.append(score)\n",
    "\n",
    "\n",
    "\n",
    "# Add to DataFrame\n",
    "df['sbert_similarity'] = similarities\n",
    "\n",
    "# Compute and print mean similarity (excluding None)\n",
    "valid_scores = [s for s in similarities if s is not None]\n",
    "mean_score = sum(valid_scores) / len(valid_scores)\n",
    "print(f\"\\nMean SBERT Semantic Similarity: {mean_score:.4f}\")"
   ]
  },
  {
   "cell_type": "code",
   "execution_count": null,
   "id": "2cc29f63-1a58-444d-9b33-4190a806737c",
   "metadata": {},
   "outputs": [],
   "source": []
  }
 ],
 "metadata": {
  "kernelspec": {
   "display_name": "condapy312",
   "language": "python",
   "name": "condapy312"
  },
  "language_info": {
   "codemirror_mode": {
    "name": "ipython",
    "version": 3
   },
   "file_extension": ".py",
   "mimetype": "text/x-python",
   "name": "python",
   "nbconvert_exporter": "python",
   "pygments_lexer": "ipython3",
   "version": "3.12.9"
  }
 },
 "nbformat": 4,
 "nbformat_minor": 5
}
