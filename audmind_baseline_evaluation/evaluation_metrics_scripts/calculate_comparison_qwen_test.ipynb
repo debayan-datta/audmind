{
 "cells": [
  {
   "cell_type": "markdown",
   "id": "39e3806d-4cf3-4bd2-8ab6-f9ce71d01677",
   "metadata": {},
   "source": [
    "## This is the the comparison of the Test Results for Qwen2Audio using our data"
   ]
  },
  {
   "cell_type": "code",
   "execution_count": 4,
   "id": "76b610cd-a602-4448-8dc4-13552f082269",
   "metadata": {},
   "outputs": [],
   "source": [
    "import pandas as pd"
   ]
  },
  {
   "cell_type": "code",
   "execution_count": 7,
   "id": "0ed5023b-a5ee-461a-8913-25430536a24e",
   "metadata": {},
   "outputs": [
    {
     "data": {
      "text/html": [
       "<div>\n",
       "<style scoped>\n",
       "    .dataframe tbody tr th:only-of-type {\n",
       "        vertical-align: middle;\n",
       "    }\n",
       "\n",
       "    .dataframe tbody tr th {\n",
       "        vertical-align: top;\n",
       "    }\n",
       "\n",
       "    .dataframe thead th {\n",
       "        text-align: right;\n",
       "    }\n",
       "</style>\n",
       "<table border=\"1\" class=\"dataframe\">\n",
       "  <thead>\n",
       "    <tr style=\"text-align: right;\">\n",
       "      <th></th>\n",
       "      <th>file_id</th>\n",
       "      <th>Question</th>\n",
       "      <th>Answer</th>\n",
       "      <th>Reasoning</th>\n",
       "      <th>Reference</th>\n",
       "    </tr>\n",
       "  </thead>\n",
       "  <tbody>\n",
       "    <tr>\n",
       "      <th>0</th>\n",
       "      <td>mfe8OzzArGc_chunk29_data1_task3</td>\n",
       "      <td>What cause of depression does this show?</td>\n",
       "      <td>This patient shows causes of depression relate...</td>\n",
       "      <td>The text raises a question about feeling at ri...</td>\n",
       "      <td>This patient shows causes of depression relate...</td>\n",
       "    </tr>\n",
       "    <tr>\n",
       "      <th>1</th>\n",
       "      <td>jm6PG989Q_0_chunk78_data1_task1</td>\n",
       "      <td>Does the patient suffer from loneliness?</td>\n",
       "      <td>Yes, the patient suffers from loneliness.</td>\n",
       "      <td>The patient expresses feelings of helplessness...</td>\n",
       "      <td>Yes, the patient suffers from loneliness. The ...</td>\n",
       "    </tr>\n",
       "    <tr>\n",
       "      <th>2</th>\n",
       "      <td>jkKm5Cym-ZY_chunk4_data2_task4</td>\n",
       "      <td>Does the emotional wellness dimension exist here?</td>\n",
       "      <td>Yes, this wellness dimension exists here.</td>\n",
       "      <td>The individual expresses a recognition of fluc...</td>\n",
       "      <td>Yes, this wellness dimension exists here. The ...</td>\n",
       "    </tr>\n",
       "    <tr>\n",
       "      <th>3</th>\n",
       "      <td>jlXmVqhaMds_chunk5_data2_task4</td>\n",
       "      <td>Does the emotional wellness dimension exist here?</td>\n",
       "      <td>Yes, this wellness dimension exists here.</td>\n",
       "      <td>The patient expresses a sense of foreboding an...</td>\n",
       "      <td>Yes, this wellness dimension exists here. The ...</td>\n",
       "    </tr>\n",
       "    <tr>\n",
       "      <th>4</th>\n",
       "      <td>-GaYArbWL1Q_chunk11_data1_task3</td>\n",
       "      <td>What is the stress cause here?</td>\n",
       "      <td>This patient shows the stress cause related to...</td>\n",
       "      <td>The text indicates that the patient, Julie, ha...</td>\n",
       "      <td>This patient shows the stress cause related to...</td>\n",
       "    </tr>\n",
       "  </tbody>\n",
       "</table>\n",
       "</div>"
      ],
      "text/plain": [
       "                           file_id  \\\n",
       "0  mfe8OzzArGc_chunk29_data1_task3   \n",
       "1  jm6PG989Q_0_chunk78_data1_task1   \n",
       "2   jkKm5Cym-ZY_chunk4_data2_task4   \n",
       "3   jlXmVqhaMds_chunk5_data2_task4   \n",
       "4  -GaYArbWL1Q_chunk11_data1_task3   \n",
       "\n",
       "                                            Question  \\\n",
       "0           What cause of depression does this show?   \n",
       "1           Does the patient suffer from loneliness?   \n",
       "2  Does the emotional wellness dimension exist here?   \n",
       "3  Does the emotional wellness dimension exist here?   \n",
       "4                     What is the stress cause here?   \n",
       "\n",
       "                                              Answer  \\\n",
       "0  This patient shows causes of depression relate...   \n",
       "1          Yes, the patient suffers from loneliness.   \n",
       "2          Yes, this wellness dimension exists here.   \n",
       "3          Yes, this wellness dimension exists here.   \n",
       "4  This patient shows the stress cause related to...   \n",
       "\n",
       "                                           Reasoning  \\\n",
       "0  The text raises a question about feeling at ri...   \n",
       "1  The patient expresses feelings of helplessness...   \n",
       "2  The individual expresses a recognition of fluc...   \n",
       "3  The patient expresses a sense of foreboding an...   \n",
       "4  The text indicates that the patient, Julie, ha...   \n",
       "\n",
       "                                           Reference  \n",
       "0  This patient shows causes of depression relate...  \n",
       "1  Yes, the patient suffers from loneliness. The ...  \n",
       "2  Yes, this wellness dimension exists here. The ...  \n",
       "3  Yes, this wellness dimension exists here. The ...  \n",
       "4  This patient shows the stress cause related to...  "
      ]
     },
     "execution_count": 7,
     "metadata": {},
     "output_type": "execute_result"
    }
   ],
   "source": [
    "ref = pd.read_csv(\"test_mentalhealth.csv\")\n",
    "ref['Reference'] = ref['Answer'].astype(str) + \" \" + ref['Reasoning'].astype(str)\n",
    "ref.head()"
   ]
  },
  {
   "cell_type": "code",
   "execution_count": 8,
   "id": "87da29ee-4e9a-4d6f-b7c2-84ec4ebc296e",
   "metadata": {},
   "outputs": [
    {
     "data": {
      "text/html": [
       "<div>\n",
       "<style scoped>\n",
       "    .dataframe tbody tr th:only-of-type {\n",
       "        vertical-align: middle;\n",
       "    }\n",
       "\n",
       "    .dataframe tbody tr th {\n",
       "        vertical-align: top;\n",
       "    }\n",
       "\n",
       "    .dataframe thead th {\n",
       "        text-align: right;\n",
       "    }\n",
       "</style>\n",
       "<table border=\"1\" class=\"dataframe\">\n",
       "  <thead>\n",
       "    <tr style=\"text-align: right;\">\n",
       "      <th></th>\n",
       "      <th>file_id</th>\n",
       "      <th>Question</th>\n",
       "      <th>Generated</th>\n",
       "    </tr>\n",
       "  </thead>\n",
       "  <tbody>\n",
       "    <tr>\n",
       "      <th>0</th>\n",
       "      <td>mfe8OzzArGc_chunk29_data1_task3</td>\n",
       "      <td>What cause of depression does this show?</td>\n",
       "      <td>The audio does not provide enough information ...</td>\n",
       "    </tr>\n",
       "    <tr>\n",
       "      <th>1</th>\n",
       "      <td>jm6PG989Q_0_chunk78_data1_task1</td>\n",
       "      <td>Does the patient suffer from loneliness?</td>\n",
       "      <td>Yes, the patient feels helpless and alone as t...</td>\n",
       "    </tr>\n",
       "    <tr>\n",
       "      <th>2</th>\n",
       "      <td>jkKm5Cym-ZY_chunk4_data2_task4</td>\n",
       "      <td>Does the emotional wellness dimension exist here?</td>\n",
       "      <td>Based on the provided transcription, it is not...</td>\n",
       "    </tr>\n",
       "    <tr>\n",
       "      <th>3</th>\n",
       "      <td>jlXmVqhaMds_chunk5_data2_task4</td>\n",
       "      <td>Does the emotional wellness dimension exist here?</td>\n",
       "      <td>Yes, the speaker is expressing a negative emot...</td>\n",
       "    </tr>\n",
       "    <tr>\n",
       "      <th>4</th>\n",
       "      <td>-GaYArbWL1Q_chunk11_data1_task3</td>\n",
       "      <td>What is the stress cause here?</td>\n",
       "      <td>The stressor seems to be related to a situatio...</td>\n",
       "    </tr>\n",
       "  </tbody>\n",
       "</table>\n",
       "</div>"
      ],
      "text/plain": [
       "                           file_id  \\\n",
       "0  mfe8OzzArGc_chunk29_data1_task3   \n",
       "1  jm6PG989Q_0_chunk78_data1_task1   \n",
       "2   jkKm5Cym-ZY_chunk4_data2_task4   \n",
       "3   jlXmVqhaMds_chunk5_data2_task4   \n",
       "4  -GaYArbWL1Q_chunk11_data1_task3   \n",
       "\n",
       "                                            Question  \\\n",
       "0           What cause of depression does this show?   \n",
       "1           Does the patient suffer from loneliness?   \n",
       "2  Does the emotional wellness dimension exist here?   \n",
       "3  Does the emotional wellness dimension exist here?   \n",
       "4                     What is the stress cause here?   \n",
       "\n",
       "                                           Generated  \n",
       "0  The audio does not provide enough information ...  \n",
       "1  Yes, the patient feels helpless and alone as t...  \n",
       "2  Based on the provided transcription, it is not...  \n",
       "3  Yes, the speaker is expressing a negative emot...  \n",
       "4  The stressor seems to be related to a situatio...  "
      ]
     },
     "execution_count": 8,
     "metadata": {},
     "output_type": "execute_result"
    }
   ],
   "source": [
    "pred = pd.read_csv(\"qwen_inf_output.csv\")\n",
    "pred.head()"
   ]
  },
  {
   "cell_type": "markdown",
   "id": "d83eb1d1-2d23-401c-97d1-05129bb5772d",
   "metadata": {},
   "source": [
    "## COMET scores"
   ]
  },
  {
   "cell_type": "code",
   "execution_count": 2,
   "id": "3f9b4452-b790-4429-9274-6e1b1c04eac1",
   "metadata": {},
   "outputs": [
    {
     "name": "stderr",
     "output_type": "stream",
     "text": [
      "/data/amey_2311cs10/anaconda3/envs/condapy312/lib/python3.12/site-packages/tqdm/auto.py:21: TqdmWarning: IProgress not found. Please update jupyter and ipywidgets. See https://ipywidgets.readthedocs.io/en/stable/user_install.html\n",
      "  from .autonotebook import tqdm as notebook_tqdm\n",
      "Fetching 5 files: 100%|████████████████████████| 5/5 [00:00<00:00, 59409.41it/s]\n",
      "Lightning automatically upgraded your loaded checkpoint from v1.8.3.post1 to v2.5.1.post0. To apply the upgrade to your files permanently, run `python -m pytorch_lightning.utilities.upgrade_checkpoint ../.cache/huggingface/hub/models--Unbabel--wmt22-comet-da/snapshots/2760a223ac957f30acfb18c8aa649b01cf1d75f2/checkpoints/model.ckpt`\n",
      "Encoder model frozen.\n",
      "/data/amey_2311cs10/anaconda3/envs/condapy312/lib/python3.12/site-packages/pytorch_lightning/core/saving.py:195: Found keys that are not in the model state dict but in the checkpoint: ['encoder.model.embeddings.position_ids']\n"
     ]
    }
   ],
   "source": [
    "from comet import download_model, load_from_checkpoint\n",
    "\n",
    "model_path = download_model(\"Unbabel/wmt22-comet-da\")\n",
    "model = load_from_checkpoint(model_path)"
   ]
  },
  {
   "cell_type": "code",
   "execution_count": 8,
   "id": "371029ea-cae2-4255-aa87-6126db482288",
   "metadata": {},
   "outputs": [],
   "source": [
    "# Prepare data in COMET format\n",
    "comet_reason_data = [\n",
    "    {\n",
    "        \"src\": \"\",  # Source left empty\n",
    "        \"mt\": pred.loc[i, \"Generated\"],\n",
    "        \"ref\": ref.loc[i, \"Reference\"]\n",
    "    }\n",
    "    for i in range(len(ref))\n",
    "]"
   ]
  },
  {
   "cell_type": "code",
   "execution_count": null,
   "id": "08867066-8340-4e68-9624-cacb04df24a2",
   "metadata": {},
   "outputs": [],
   "source": [
    "# # Run scoring\n",
    "# model_output = model.predict(data, batch_size=8, gpus=1 if model.hparams.use_gpu else 0)\n",
    "\n",
    "# # Get scores\n",
    "# scores = model_output.scores\n",
    "\n",
    "# # Add scores to the prediction DataFrame (or ref, as needed)\n",
    "# pred['COMET_score'] = scores"
   ]
  },
  {
   "cell_type": "code",
   "execution_count": 9,
   "id": "4ff24b89-650b-4be2-80e2-c9ea1ee67ea8",
   "metadata": {},
   "outputs": [
    {
     "name": "stderr",
     "output_type": "stream",
     "text": [
      "Using default `ModelCheckpoint`. Consider installing `litmodels` package to enable `LitModelCheckpoint` for automatic upload to the Lightning model registry.\n",
      "GPU available: True (cuda), used: True\n",
      "TPU available: False, using: 0 TPU cores\n",
      "HPU available: False, using: 0 HPUs\n",
      "You are using a CUDA device ('NVIDIA H100 PCIe') that has Tensor Cores. To properly utilize them, you should set `torch.set_float32_matmul_precision('medium' | 'high')` which will trade-off precision for performance. For more details, read https://pytorch.org/docs/stable/generated/torch.set_float32_matmul_precision.html#torch.set_float32_matmul_precision\n",
      "LOCAL_RANK: 0 - CUDA_VISIBLE_DEVICES: [0,1]\n",
      "Predicting DataLoader 0: 100%|████████████████| 225/225 [00:16<00:00, 13.26it/s]\n"
     ]
    },
    {
     "name": "stdout",
     "output_type": "stream",
     "text": [
      "Average COMET score: 0.5551\n"
     ]
    }
   ],
   "source": [
    "model_output = model.predict(comet_reason_data, batch_size=8, gpus=1)  # Set gpus=0 if no GPU\n",
    "\n",
    "# Individual scores\n",
    "comet_scores = model_output.scores\n",
    "\n",
    "# Average score\n",
    "avg_comet = sum(comet_scores) / len(comet_scores)\n",
    "\n",
    "print(f\"Average COMET score: {avg_comet:.4f}\")"
   ]
  },
  {
   "cell_type": "markdown",
   "id": "0b723f61-7ffd-49c8-b076-4b933f4e9b9e",
   "metadata": {},
   "source": [
    "# Chunked SBERT + Max Matching + Average"
   ]
  },
  {
   "cell_type": "code",
   "execution_count": 1,
   "id": "90f9037f-d96f-4da4-b1f2-adc6994c9ea5",
   "metadata": {},
   "outputs": [
    {
     "name": "stderr",
     "output_type": "stream",
     "text": [
      "[nltk_data] Downloading package punkt to\n",
      "[nltk_data]     /data/amey_2311cs10/nltk_data...\n",
      "[nltk_data]   Package punkt is already up-to-date!\n",
      "/data/amey_2311cs10/anaconda3/envs/condapy312/lib/python3.12/site-packages/tqdm/auto.py:21: TqdmWarning: IProgress not found. Please update jupyter and ipywidgets. See https://ipywidgets.readthedocs.io/en/stable/user_install.html\n",
      "  from .autonotebook import tqdm as notebook_tqdm\n"
     ]
    }
   ],
   "source": [
    "import nltk\n",
    "nltk.download('punkt')\n",
    "import pandas as pd\n",
    "from sentence_transformers import SentenceTransformer, util"
   ]
  },
  {
   "cell_type": "code",
   "execution_count": 2,
   "id": "8eaf07c4-6581-46b4-b188-467409001646",
   "metadata": {},
   "outputs": [],
   "source": [
    "# Load SBERT model\n",
    "model = SentenceTransformer('all-MiniLM-L6-v2')  # or 'all-mpnet-base-v2' for better quality"
   ]
  },
  {
   "cell_type": "code",
   "execution_count": 3,
   "id": "4de9df3b-40ed-472d-b065-e0391092fcd2",
   "metadata": {},
   "outputs": [],
   "source": [
    "# Fallback if nltk not available\n",
    "def safe_sent_tokenize(text):\n",
    "    try:\n",
    "        import nltk\n",
    "        return nltk.sent_tokenize(text)\n",
    "    except:\n",
    "        # Basic sentence split fallback\n",
    "        return [s.strip() for s in text.split('.') if s.strip()]"
   ]
  },
  {
   "cell_type": "code",
   "execution_count": null,
   "id": "69da831e-0285-4504-9bba-32dacad4dd8e",
   "metadata": {},
   "outputs": [],
   "source": [
    "df = pd.merge(ref, pred, on='file_id', how='inner')"
   ]
  },
  {
   "cell_type": "code",
   "execution_count": 12,
   "id": "f99c4d9d-2a5c-48e9-804c-65302c4b8e37",
   "metadata": {},
   "outputs": [
    {
     "name": "stdout",
     "output_type": "stream",
     "text": [
      "Mean SBERT Semantic Similarity: 0.5474\n"
     ]
    }
   ],
   "source": [
    "# SBERT similarity function with fallback tokenization\n",
    "def sbert_similarity(text1, text2):\n",
    "    sents1 = safe_sent_tokenize(text1)\n",
    "    sents2 = safe_sent_tokenize(text2)\n",
    "\n",
    "    emb1 = model.encode(sents1, convert_to_tensor=True)\n",
    "    emb2 = model.encode(sents2, convert_to_tensor=True)\n",
    "\n",
    "    sim_matrix = util.pytorch_cos_sim(emb1, emb2)\n",
    "    ref_to_pred = sim_matrix.max(dim=1).values.mean().item()\n",
    "    pred_to_ref = sim_matrix.max(dim=0).values.mean().item()\n",
    "\n",
    "    return (ref_to_pred + pred_to_ref) / 2\n",
    "\n",
    "# Assuming df has 'reference' and 'predicted' columns\n",
    "similarities = []\n",
    "\n",
    "for idx, row in df.iterrows():\n",
    "    try:\n",
    "        score = sbert_similarity(row['Reference'], row['Generated'])\n",
    "    except Exception as e:\n",
    "        print(f\"Error at row {idx}: {e}\")\n",
    "        score = None\n",
    "    similarities.append(score)\n",
    "\n",
    "\n",
    "\n",
    "# Add to DataFrame\n",
    "df['sbert_similarity'] = similarities\n",
    "\n",
    "# Compute and print mean similarity (excluding None)\n",
    "valid_scores = [s for s in similarities if s is not None]\n",
    "mean_score = sum(valid_scores) / len(valid_scores)\n",
    "print(f\"Mean SBERT Semantic Similarity: {mean_score:.4f}\")"
   ]
  },
  {
   "cell_type": "code",
   "execution_count": null,
   "id": "c231c30d-e509-45ce-9557-c406aef20ad3",
   "metadata": {},
   "outputs": [],
   "source": []
  }
 ],
 "metadata": {
  "kernelspec": {
   "display_name": "condapy312",
   "language": "python",
   "name": "condapy312"
  },
  "language_info": {
   "codemirror_mode": {
    "name": "ipython",
    "version": 3
   },
   "file_extension": ".py",
   "mimetype": "text/x-python",
   "name": "python",
   "nbconvert_exporter": "python",
   "pygments_lexer": "ipython3",
   "version": "3.12.9"
  }
 },
 "nbformat": 4,
 "nbformat_minor": 5
}
