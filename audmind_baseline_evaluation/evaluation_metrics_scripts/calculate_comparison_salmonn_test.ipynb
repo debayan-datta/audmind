{
 "cells": [
  {
   "cell_type": "markdown",
   "id": "a3dff11b-01cf-40cb-bceb-9313e27fe29f",
   "metadata": {},
   "source": [
    "# This is the the comparison of the Test Results for Salmon using our data\n",
    "### since Salmonn doesnt give any Reasoning, we will compare the ground truth Answer with the model predictions"
   ]
  },
  {
   "cell_type": "code",
   "execution_count": 3,
   "id": "a2407380-300c-464f-8215-45e3ca9a4c90",
   "metadata": {},
   "outputs": [],
   "source": [
    "import json\n",
    "from pathlib import Path\n",
    "import pandas as pd\n",
    "import re"
   ]
  },
  {
   "cell_type": "raw",
   "id": "186b472b-0fd3-4d2b-a1a8-914d751e8266",
   "metadata": {},
   "source": [
    "import json\n",
    "# Open and load the JSON file\n",
    "with open('data_test_salmonn_annotations.json', 'r') as file:\n",
    "    data1 = json.load(file)\n",
    "\n",
    "# Pretty print the JSON content\n",
    "# print(json.dumps(data1, indent=4))"
   ]
  },
  {
   "cell_type": "code",
   "execution_count": 7,
   "id": "c1fd8368-ad8b-401e-852e-3335405eb316",
   "metadata": {},
   "outputs": [
    {
     "data": {
      "text/html": [
       "<div>\n",
       "<style scoped>\n",
       "    .dataframe tbody tr th:only-of-type {\n",
       "        vertical-align: middle;\n",
       "    }\n",
       "\n",
       "    .dataframe tbody tr th {\n",
       "        vertical-align: top;\n",
       "    }\n",
       "\n",
       "    .dataframe thead th {\n",
       "        text-align: right;\n",
       "    }\n",
       "</style>\n",
       "<table border=\"1\" class=\"dataframe\">\n",
       "  <thead>\n",
       "    <tr style=\"text-align: right;\">\n",
       "      <th></th>\n",
       "      <th>path</th>\n",
       "      <th>question</th>\n",
       "      <th>predicted</th>\n",
       "    </tr>\n",
       "  </thead>\n",
       "  <tbody>\n",
       "    <tr>\n",
       "      <th>0</th>\n",
       "      <td>/data/amey_2311cs10/debayan/test_mentalhealth_...</td>\n",
       "      <td>What cause of depression does this show?</td>\n",
       "      <td>&lt;Answer&gt; This show does not provide enough inf...</td>\n",
       "    </tr>\n",
       "    <tr>\n",
       "      <th>1</th>\n",
       "      <td>/data/amey_2311cs10/debayan/test_mentalhealth_...</td>\n",
       "      <td>Does the patient suffer from loneliness?</td>\n",
       "      <td>&lt;Answer&gt; Yes, the patient mentions feeling com...</td>\n",
       "    </tr>\n",
       "    <tr>\n",
       "      <th>2</th>\n",
       "      <td>/data/amey_2311cs10/debayan/test_mentalhealth_...</td>\n",
       "      <td>Does the emotional wellness dimension exist here?</td>\n",
       "      <td>&lt;Answer&gt; Yes, the emotional wellness dimension...</td>\n",
       "    </tr>\n",
       "    <tr>\n",
       "      <th>3</th>\n",
       "      <td>/data/amey_2311cs10/debayan/test_mentalhealth_...</td>\n",
       "      <td>Does the emotional wellness dimension exist here?</td>\n",
       "      <td>&lt;Answer&gt; Yes, the emotional wellness dimension...</td>\n",
       "    </tr>\n",
       "    <tr>\n",
       "      <th>4</th>\n",
       "      <td>/data/amey_2311cs10/debayan/test_mentalhealth_...</td>\n",
       "      <td>What is the stress cause here?</td>\n",
       "      <td>&lt;Answer&gt; The stress cause here is social anxie...</td>\n",
       "    </tr>\n",
       "  </tbody>\n",
       "</table>\n",
       "</div>"
      ],
      "text/plain": [
       "                                                path  \\\n",
       "0  /data/amey_2311cs10/debayan/test_mentalhealth_...   \n",
       "1  /data/amey_2311cs10/debayan/test_mentalhealth_...   \n",
       "2  /data/amey_2311cs10/debayan/test_mentalhealth_...   \n",
       "3  /data/amey_2311cs10/debayan/test_mentalhealth_...   \n",
       "4  /data/amey_2311cs10/debayan/test_mentalhealth_...   \n",
       "\n",
       "                                            question  \\\n",
       "0           What cause of depression does this show?   \n",
       "1           Does the patient suffer from loneliness?   \n",
       "2  Does the emotional wellness dimension exist here?   \n",
       "3  Does the emotional wellness dimension exist here?   \n",
       "4                     What is the stress cause here?   \n",
       "\n",
       "                                           predicted  \n",
       "0  <Answer> This show does not provide enough inf...  \n",
       "1  <Answer> Yes, the patient mentions feeling com...  \n",
       "2  <Answer> Yes, the emotional wellness dimension...  \n",
       "3  <Answer> Yes, the emotional wellness dimension...  \n",
       "4  <Answer> The stress cause here is social anxie...  "
      ]
     },
     "execution_count": 7,
     "metadata": {},
     "output_type": "execute_result"
    }
   ],
   "source": [
    "# Load the JSON file\n",
    "with open('salmonn_outputs.json', 'r') as file:\n",
    "    data = json.load(file)\n",
    "\n",
    "# Convert to DataFrame\n",
    "df = pd.DataFrame(data)\n",
    "\n",
    "# Rename 'output' column to 'predicted' and replace <s> and </s> tags\n",
    "df.rename(columns={'output': 'predicted'}, inplace=True)\n",
    "df['predicted'] = df['predicted'].str.replace('<s>', '<Answer>', regex=False).str.replace('</s>', '</Answer>', regex=False)\n",
    "\n",
    "# Display the DataFrame\n",
    "df.head()"
   ]
  },
  {
   "cell_type": "code",
   "execution_count": 12,
   "id": "55c14978-3d31-4c1a-b163-a8b6c8a18669",
   "metadata": {},
   "outputs": [
    {
     "data": {
      "text/html": [
       "<div>\n",
       "<style scoped>\n",
       "    .dataframe tbody tr th:only-of-type {\n",
       "        vertical-align: middle;\n",
       "    }\n",
       "\n",
       "    .dataframe tbody tr th {\n",
       "        vertical-align: top;\n",
       "    }\n",
       "\n",
       "    .dataframe thead th {\n",
       "        text-align: right;\n",
       "    }\n",
       "</style>\n",
       "<table border=\"1\" class=\"dataframe\">\n",
       "  <thead>\n",
       "    <tr style=\"text-align: right;\">\n",
       "      <th></th>\n",
       "      <th>path</th>\n",
       "      <th>question</th>\n",
       "      <th>predicted</th>\n",
       "      <th>reference</th>\n",
       "    </tr>\n",
       "  </thead>\n",
       "  <tbody>\n",
       "    <tr>\n",
       "      <th>0</th>\n",
       "      <td>/data/amey_2311cs10/debayan/test_mentalhealth_...</td>\n",
       "      <td>What cause of depression does this show?</td>\n",
       "      <td>&lt;Answer&gt; This show does not provide enough inf...</td>\n",
       "      <td>&lt;Answer&gt; This patient shows causes of depressi...</td>\n",
       "    </tr>\n",
       "    <tr>\n",
       "      <th>1</th>\n",
       "      <td>/data/amey_2311cs10/debayan/test_mentalhealth_...</td>\n",
       "      <td>Does the patient suffer from loneliness?</td>\n",
       "      <td>&lt;Answer&gt; Yes, the patient mentions feeling com...</td>\n",
       "      <td>&lt;Answer&gt; Yes, the patient suffers from lonelin...</td>\n",
       "    </tr>\n",
       "    <tr>\n",
       "      <th>2</th>\n",
       "      <td>/data/amey_2311cs10/debayan/test_mentalhealth_...</td>\n",
       "      <td>Does the emotional wellness dimension exist here?</td>\n",
       "      <td>&lt;Answer&gt; Yes, the emotional wellness dimension...</td>\n",
       "      <td>&lt;Answer&gt; Yes, this wellness dimension exists h...</td>\n",
       "    </tr>\n",
       "    <tr>\n",
       "      <th>3</th>\n",
       "      <td>/data/amey_2311cs10/debayan/test_mentalhealth_...</td>\n",
       "      <td>Does the emotional wellness dimension exist here?</td>\n",
       "      <td>&lt;Answer&gt; Yes, the emotional wellness dimension...</td>\n",
       "      <td>&lt;Answer&gt; Yes, this wellness dimension exists h...</td>\n",
       "    </tr>\n",
       "    <tr>\n",
       "      <th>4</th>\n",
       "      <td>/data/amey_2311cs10/debayan/test_mentalhealth_...</td>\n",
       "      <td>What is the stress cause here?</td>\n",
       "      <td>&lt;Answer&gt; The stress cause here is social anxie...</td>\n",
       "      <td>&lt;Answer&gt; This patient shows the stress cause r...</td>\n",
       "    </tr>\n",
       "  </tbody>\n",
       "</table>\n",
       "</div>"
      ],
      "text/plain": [
       "                                                path  \\\n",
       "0  /data/amey_2311cs10/debayan/test_mentalhealth_...   \n",
       "1  /data/amey_2311cs10/debayan/test_mentalhealth_...   \n",
       "2  /data/amey_2311cs10/debayan/test_mentalhealth_...   \n",
       "3  /data/amey_2311cs10/debayan/test_mentalhealth_...   \n",
       "4  /data/amey_2311cs10/debayan/test_mentalhealth_...   \n",
       "\n",
       "                                            question  \\\n",
       "0           What cause of depression does this show?   \n",
       "1           Does the patient suffer from loneliness?   \n",
       "2  Does the emotional wellness dimension exist here?   \n",
       "3  Does the emotional wellness dimension exist here?   \n",
       "4                     What is the stress cause here?   \n",
       "\n",
       "                                           predicted  \\\n",
       "0  <Answer> This show does not provide enough inf...   \n",
       "1  <Answer> Yes, the patient mentions feeling com...   \n",
       "2  <Answer> Yes, the emotional wellness dimension...   \n",
       "3  <Answer> Yes, the emotional wellness dimension...   \n",
       "4  <Answer> The stress cause here is social anxie...   \n",
       "\n",
       "                                           reference  \n",
       "0  <Answer> This patient shows causes of depressi...  \n",
       "1  <Answer> Yes, the patient suffers from lonelin...  \n",
       "2  <Answer> Yes, this wellness dimension exists h...  \n",
       "3  <Answer> Yes, this wellness dimension exists h...  \n",
       "4  <Answer> This patient shows the stress cause r...  "
      ]
     },
     "execution_count": 12,
     "metadata": {},
     "output_type": "execute_result"
    }
   ],
   "source": [
    "# --- Load Ground Truth Annotations ---\n",
    "with open('data_test_salmonn_annotations.json', 'r') as f:\n",
    "    gt_data = json.load(f)\n",
    "\n",
    "# Extract list of annotations\n",
    "annotations = gt_data['annotation']\n",
    "\n",
    "# Create a dictionary mapping from 'path' to the extracted <Answer>...</Answer> part\n",
    "def extract_answer(text):\n",
    "    match = re.search(r\"<Answer>.*?</Answer>\", text, re.DOTALL)\n",
    "    return match.group(0).strip() if match else None\n",
    "\n",
    "path_to_answer = {\n",
    "    item['path']: extract_answer(item['text']) for item in annotations\n",
    "}\n",
    "\n",
    "# --- Map Reference Answers into DataFrame ---\n",
    "df['reference'] = df['path'].map(path_to_answer)\n",
    "\n",
    "# Preview result\n",
    "df.head()"
   ]
  },
  {
   "cell_type": "markdown",
   "id": "7526d187-0ed9-4d9a-a82e-bcf1edcce124",
   "metadata": {},
   "source": [
    "## COMET scores"
   ]
  },
  {
   "cell_type": "code",
   "execution_count": 13,
   "id": "2ed7baf0-2fcc-4a65-8ffa-4c8ad858a8cf",
   "metadata": {},
   "outputs": [
    {
     "name": "stderr",
     "output_type": "stream",
     "text": [
      "/data/amey_2311cs10/anaconda3/envs/condapy312/lib/python3.12/site-packages/tqdm/auto.py:21: TqdmWarning: IProgress not found. Please update jupyter and ipywidgets. See https://ipywidgets.readthedocs.io/en/stable/user_install.html\n",
      "  from .autonotebook import tqdm as notebook_tqdm\n",
      "Fetching 5 files: 100%|████████████████████████████████████████████████████████████████████████████████████████████████████████████████████████████████████████| 5/5 [00:00<00:00, 72565.81it/s]\n",
      "Lightning automatically upgraded your loaded checkpoint from v1.8.3.post1 to v2.5.1.post0. To apply the upgrade to your files permanently, run `python -m pytorch_lightning.utilities.upgrade_checkpoint ../.cache/huggingface/hub/models--Unbabel--wmt22-comet-da/snapshots/2760a223ac957f30acfb18c8aa649b01cf1d75f2/checkpoints/model.ckpt`\n",
      "Encoder model frozen.\n",
      "/data/amey_2311cs10/anaconda3/envs/condapy312/lib/python3.12/site-packages/pytorch_lightning/core/saving.py:195: Found keys that are not in the model state dict but in the checkpoint: ['encoder.model.embeddings.position_ids']\n"
     ]
    }
   ],
   "source": [
    "from comet import download_model, load_from_checkpoint\n",
    "\n",
    "model_path = download_model(\"Unbabel/wmt22-comet-da\")\n",
    "model = load_from_checkpoint(model_path)"
   ]
  },
  {
   "cell_type": "code",
   "execution_count": 16,
   "id": "6851164b-47a9-479e-8c5b-40a06e607377",
   "metadata": {},
   "outputs": [],
   "source": [
    "# Prepare data in COMET format\n",
    "comet_reason_data = [\n",
    "    {\n",
    "        \"src\": \"\",  # Source left empty\n",
    "        \"mt\": df.loc[i, \"predicted\"],\n",
    "        \"ref\": df.loc[i, \"reference\"]\n",
    "    }\n",
    "    for i in range(len(df))\n",
    "]"
   ]
  },
  {
   "cell_type": "code",
   "execution_count": 19,
   "id": "4197983e-7837-4e74-8e83-7def202417c8",
   "metadata": {},
   "outputs": [
    {
     "name": "stderr",
     "output_type": "stream",
     "text": [
      "Using default `ModelCheckpoint`. Consider installing `litmodels` package to enable `LitModelCheckpoint` for automatic upload to the Lightning model registry.\n",
      "GPU available: True (cuda), used: True\n",
      "TPU available: False, using: 0 TPU cores\n",
      "HPU available: False, using: 0 HPUs\n",
      "LOCAL_RANK: 0 - CUDA_VISIBLE_DEVICES: [0,1]\n",
      "Predicting DataLoader 0: 100%|████████████████████████████████████████████████████████████████████████████████████████████████████████████████████████████████| 225/225 [00:09<00:00, 23.41it/s]\n"
     ]
    },
    {
     "name": "stdout",
     "output_type": "stream",
     "text": [
      "Average COMET score: 0.7905\n"
     ]
    }
   ],
   "source": [
    "model_output = model.predict(comet_reason_data, batch_size=8, gpus=1)  # Set gpus=0 if no GPU\n",
    "\n",
    "# Individual scores\n",
    "comet_scores = model_output.scores\n",
    "\n",
    "# Average score\n",
    "avg_comet = sum(comet_scores) / len(comet_scores)\n",
    "\n",
    "print(f\"Average COMET score: {avg_comet:.4f}\")"
   ]
  },
  {
   "cell_type": "markdown",
   "id": "38015221-f3be-41de-b010-f55ff7298806",
   "metadata": {},
   "source": [
    "# New Salmonn output with Reasoning"
   ]
  },
  {
   "cell_type": "code",
   "execution_count": 6,
   "id": "e46a99c4-e3fe-4796-acaa-40a4b296b43a",
   "metadata": {},
   "outputs": [],
   "source": [
    "import json\n",
    "from pathlib import Path\n",
    "import pandas as pd\n",
    "import re"
   ]
  },
  {
   "cell_type": "code",
   "execution_count": 7,
   "id": "e1285c92-1351-4b9b-ba1f-15512839c57c",
   "metadata": {},
   "outputs": [
    {
     "data": {
      "text/html": [
       "<div>\n",
       "<style scoped>\n",
       "    .dataframe tbody tr th:only-of-type {\n",
       "        vertical-align: middle;\n",
       "    }\n",
       "\n",
       "    .dataframe tbody tr th {\n",
       "        vertical-align: top;\n",
       "    }\n",
       "\n",
       "    .dataframe thead th {\n",
       "        text-align: right;\n",
       "    }\n",
       "</style>\n",
       "<table border=\"1\" class=\"dataframe\">\n",
       "  <thead>\n",
       "    <tr style=\"text-align: right;\">\n",
       "      <th></th>\n",
       "      <th>path</th>\n",
       "      <th>question</th>\n",
       "      <th>predicted</th>\n",
       "    </tr>\n",
       "  </thead>\n",
       "  <tbody>\n",
       "    <tr>\n",
       "      <th>0</th>\n",
       "      <td>./test_mentalhealth_16kHz/mfe8OzzArGc_chunk29_...</td>\n",
       "      <td>What cause of depression does this show?\\n\\nBe...</td>\n",
       "      <td>&lt;s&gt; &lt;Answer&gt; This patient shows the stress cau...</td>\n",
       "    </tr>\n",
       "    <tr>\n",
       "      <th>1</th>\n",
       "      <td>./test_mentalhealth_16kHz/jm6PG989Q_0_chunk78_...</td>\n",
       "      <td>Does the patient suffer from loneliness?\\n\\nBe...</td>\n",
       "      <td>&lt;s&gt; Yes, the patient suffers from stress.\\n\\nR...</td>\n",
       "    </tr>\n",
       "    <tr>\n",
       "      <th>2</th>\n",
       "      <td>./test_mentalhealth_16kHz/jkKm5Cym-ZY_chunk4_d...</td>\n",
       "      <td>Does the emotional wellness dimension exist he...</td>\n",
       "      <td>&lt;s&gt; Yes, this wellness dimension exists here. ...</td>\n",
       "    </tr>\n",
       "    <tr>\n",
       "      <th>3</th>\n",
       "      <td>./test_mentalhealth_16kHz/jlXmVqhaMds_chunk5_d...</td>\n",
       "      <td>Does the emotional wellness dimension exist he...</td>\n",
       "      <td>&lt;s&gt; Yes, this wellness dimension exists here. ...</td>\n",
       "    </tr>\n",
       "    <tr>\n",
       "      <th>4</th>\n",
       "      <td>./test_mentalhealth_16kHz/-GaYArbWL1Q_chunk11_...</td>\n",
       "      <td>What is the stress cause here?\\n\\nBelow is an ...</td>\n",
       "      <td>&lt;s&gt; This patient shows the stress cause relate...</td>\n",
       "    </tr>\n",
       "  </tbody>\n",
       "</table>\n",
       "</div>"
      ],
      "text/plain": [
       "                                                path  \\\n",
       "0  ./test_mentalhealth_16kHz/mfe8OzzArGc_chunk29_...   \n",
       "1  ./test_mentalhealth_16kHz/jm6PG989Q_0_chunk78_...   \n",
       "2  ./test_mentalhealth_16kHz/jkKm5Cym-ZY_chunk4_d...   \n",
       "3  ./test_mentalhealth_16kHz/jlXmVqhaMds_chunk5_d...   \n",
       "4  ./test_mentalhealth_16kHz/-GaYArbWL1Q_chunk11_...   \n",
       "\n",
       "                                            question  \\\n",
       "0  What cause of depression does this show?\\n\\nBe...   \n",
       "1  Does the patient suffer from loneliness?\\n\\nBe...   \n",
       "2  Does the emotional wellness dimension exist he...   \n",
       "3  Does the emotional wellness dimension exist he...   \n",
       "4  What is the stress cause here?\\n\\nBelow is an ...   \n",
       "\n",
       "                                           predicted  \n",
       "0  <s> <Answer> This patient shows the stress cau...  \n",
       "1  <s> Yes, the patient suffers from stress.\\n\\nR...  \n",
       "2  <s> Yes, this wellness dimension exists here. ...  \n",
       "3  <s> Yes, this wellness dimension exists here. ...  \n",
       "4  <s> This patient shows the stress cause relate...  "
      ]
     },
     "execution_count": 7,
     "metadata": {},
     "output_type": "execute_result"
    }
   ],
   "source": [
    "# Load the JSON file\n",
    "with open('salmonn_outputs_with_reasoning.json', 'r') as file:\n",
    "    data = json.load(file)\n",
    "\n",
    "# Convert to DataFrame\n",
    "df = pd.DataFrame(data)\n",
    "\n",
    "df.rename(columns={'output': 'predicted'}, inplace=True)\n",
    "# df['predicted'] = df['predicted'].str.replace('<s>', '<Answer>', regex=False).str.replace('</s>', '</Answer>', regex=False)\n",
    "\n",
    "# Display the DataFrame\n",
    "df.head()"
   ]
  },
  {
   "cell_type": "code",
   "execution_count": 10,
   "id": "3256144c-77b7-402c-904f-8d31c705f362",
   "metadata": {},
   "outputs": [
    {
     "data": {
      "text/html": [
       "<div>\n",
       "<style scoped>\n",
       "    .dataframe tbody tr th:only-of-type {\n",
       "        vertical-align: middle;\n",
       "    }\n",
       "\n",
       "    .dataframe tbody tr th {\n",
       "        vertical-align: top;\n",
       "    }\n",
       "\n",
       "    .dataframe thead th {\n",
       "        text-align: right;\n",
       "    }\n",
       "</style>\n",
       "<table border=\"1\" class=\"dataframe\">\n",
       "  <thead>\n",
       "    <tr style=\"text-align: right;\">\n",
       "      <th></th>\n",
       "      <th>path</th>\n",
       "      <th>question</th>\n",
       "      <th>predicted</th>\n",
       "      <th>reference</th>\n",
       "    </tr>\n",
       "  </thead>\n",
       "  <tbody>\n",
       "    <tr>\n",
       "      <th>0</th>\n",
       "      <td>./test_mentalhealth_16kHz/mfe8OzzArGc_chunk29_...</td>\n",
       "      <td>What cause of depression does this show?\\n\\nBe...</td>\n",
       "      <td>&lt;s&gt; &lt;Answer&gt; This patient shows the stress cau...</td>\n",
       "      <td>&lt;Answer&gt; This patient shows causes of depressi...</td>\n",
       "    </tr>\n",
       "    <tr>\n",
       "      <th>1</th>\n",
       "      <td>./test_mentalhealth_16kHz/jm6PG989Q_0_chunk78_...</td>\n",
       "      <td>Does the patient suffer from loneliness?\\n\\nBe...</td>\n",
       "      <td>&lt;s&gt; Yes, the patient suffers from stress.\\n\\nR...</td>\n",
       "      <td>&lt;Answer&gt; Yes, the patient suffers from lonelin...</td>\n",
       "    </tr>\n",
       "    <tr>\n",
       "      <th>2</th>\n",
       "      <td>./test_mentalhealth_16kHz/jkKm5Cym-ZY_chunk4_d...</td>\n",
       "      <td>Does the emotional wellness dimension exist he...</td>\n",
       "      <td>&lt;s&gt; Yes, this wellness dimension exists here. ...</td>\n",
       "      <td>&lt;Answer&gt; Yes, this wellness dimension exists h...</td>\n",
       "    </tr>\n",
       "    <tr>\n",
       "      <th>3</th>\n",
       "      <td>./test_mentalhealth_16kHz/jlXmVqhaMds_chunk5_d...</td>\n",
       "      <td>Does the emotional wellness dimension exist he...</td>\n",
       "      <td>&lt;s&gt; Yes, this wellness dimension exists here. ...</td>\n",
       "      <td>&lt;Answer&gt; Yes, this wellness dimension exists h...</td>\n",
       "    </tr>\n",
       "    <tr>\n",
       "      <th>4</th>\n",
       "      <td>./test_mentalhealth_16kHz/-GaYArbWL1Q_chunk11_...</td>\n",
       "      <td>What is the stress cause here?\\n\\nBelow is an ...</td>\n",
       "      <td>&lt;s&gt; This patient shows the stress cause relate...</td>\n",
       "      <td>&lt;Answer&gt; This patient shows the stress cause r...</td>\n",
       "    </tr>\n",
       "  </tbody>\n",
       "</table>\n",
       "</div>"
      ],
      "text/plain": [
       "                                                path  \\\n",
       "0  ./test_mentalhealth_16kHz/mfe8OzzArGc_chunk29_...   \n",
       "1  ./test_mentalhealth_16kHz/jm6PG989Q_0_chunk78_...   \n",
       "2  ./test_mentalhealth_16kHz/jkKm5Cym-ZY_chunk4_d...   \n",
       "3  ./test_mentalhealth_16kHz/jlXmVqhaMds_chunk5_d...   \n",
       "4  ./test_mentalhealth_16kHz/-GaYArbWL1Q_chunk11_...   \n",
       "\n",
       "                                            question  \\\n",
       "0  What cause of depression does this show?\\n\\nBe...   \n",
       "1  Does the patient suffer from loneliness?\\n\\nBe...   \n",
       "2  Does the emotional wellness dimension exist he...   \n",
       "3  Does the emotional wellness dimension exist he...   \n",
       "4  What is the stress cause here?\\n\\nBelow is an ...   \n",
       "\n",
       "                                           predicted  \\\n",
       "0  <s> <Answer> This patient shows the stress cau...   \n",
       "1  <s> Yes, the patient suffers from stress.\\n\\nR...   \n",
       "2  <s> Yes, this wellness dimension exists here. ...   \n",
       "3  <s> Yes, this wellness dimension exists here. ...   \n",
       "4  <s> This patient shows the stress cause relate...   \n",
       "\n",
       "                                           reference  \n",
       "0  <Answer> This patient shows causes of depressi...  \n",
       "1  <Answer> Yes, the patient suffers from lonelin...  \n",
       "2  <Answer> Yes, this wellness dimension exists h...  \n",
       "3  <Answer> Yes, this wellness dimension exists h...  \n",
       "4  <Answer> This patient shows the stress cause r...  "
      ]
     },
     "execution_count": 10,
     "metadata": {},
     "output_type": "execute_result"
    }
   ],
   "source": [
    "# --- Load Ground Truth Annotations ---\n",
    "with open('test_mentalhealth_salmonn.json', 'r') as f:\n",
    "    gt_data = json.load(f)\n",
    "\n",
    "# Extract list of annotations\n",
    "annotations = gt_data['annotation']\n",
    "\n",
    "path_to_answer = {\n",
    "    item['path']: item['text'] for item in annotations\n",
    "}\n",
    "\n",
    "# --- Map Reference Answers into DataFrame ---\n",
    "df['reference'] = df['path'].map(path_to_answer)\n",
    "\n",
    "# Preview result\n",
    "df.head()"
   ]
  },
  {
   "cell_type": "markdown",
   "id": "25990570-4b63-4614-9d3d-b900ae6d6cf8",
   "metadata": {},
   "source": [
    "### COMET scores"
   ]
  },
  {
   "cell_type": "code",
   "execution_count": 8,
   "id": "74e5d71d-bd4f-4b46-a1d5-a42349cdfb2d",
   "metadata": {},
   "outputs": [
    {
     "name": "stderr",
     "output_type": "stream",
     "text": [
      "/data/amey_2311cs10/anaconda3/envs/condapy312/lib/python3.12/site-packages/tqdm/auto.py:21: TqdmWarning: IProgress not found. Please update jupyter and ipywidgets. See https://ipywidgets.readthedocs.io/en/stable/user_install.html\n",
      "  from .autonotebook import tqdm as notebook_tqdm\n",
      "Fetching 5 files: 100%|████████████████████████████████████████████████████████████████████████████████████████████████████████████████████████████████████████| 5/5 [00:00<00:00, 11178.85it/s]\n",
      "Lightning automatically upgraded your loaded checkpoint from v1.8.3.post1 to v2.5.1.post0. To apply the upgrade to your files permanently, run `python -m pytorch_lightning.utilities.upgrade_checkpoint ../.cache/huggingface/hub/models--Unbabel--wmt22-comet-da/snapshots/2760a223ac957f30acfb18c8aa649b01cf1d75f2/checkpoints/model.ckpt`\n",
      "Encoder model frozen.\n",
      "/data/amey_2311cs10/anaconda3/envs/condapy312/lib/python3.12/site-packages/pytorch_lightning/core/saving.py:195: Found keys that are not in the model state dict but in the checkpoint: ['encoder.model.embeddings.position_ids']\n"
     ]
    }
   ],
   "source": [
    "from comet import download_model, load_from_checkpoint\n",
    "\n",
    "model_path = download_model(\"Unbabel/wmt22-comet-da\")\n",
    "model = load_from_checkpoint(model_path)"
   ]
  },
  {
   "cell_type": "code",
   "execution_count": 9,
   "id": "79b5e1d5-a880-499e-8a36-c8496251c029",
   "metadata": {},
   "outputs": [],
   "source": [
    "# Prepare data in COMET format\n",
    "comet_reason_data = [\n",
    "    {\n",
    "        \"src\": \"\",  # Source left empty\n",
    "        \"mt\": df.loc[i, \"predicted\"],\n",
    "        \"ref\": df.loc[i, \"reference\"]\n",
    "    }\n",
    "    for i in range(len(df))\n",
    "]"
   ]
  },
  {
   "cell_type": "code",
   "execution_count": 10,
   "id": "b4724db1-a7db-4e55-8954-e135ab46fe9a",
   "metadata": {},
   "outputs": [
    {
     "name": "stderr",
     "output_type": "stream",
     "text": [
      "Using default `ModelCheckpoint`. Consider installing `litmodels` package to enable `LitModelCheckpoint` for automatic upload to the Lightning model registry.\n",
      "GPU available: True (cuda), used: True\n",
      "TPU available: False, using: 0 TPU cores\n",
      "HPU available: False, using: 0 HPUs\n",
      "You are using a CUDA device ('NVIDIA H100 PCIe') that has Tensor Cores. To properly utilize them, you should set `torch.set_float32_matmul_precision('medium' | 'high')` which will trade-off precision for performance. For more details, read https://pytorch.org/docs/stable/generated/torch.set_float32_matmul_precision.html#torch.set_float32_matmul_precision\n",
      "LOCAL_RANK: 0 - CUDA_VISIBLE_DEVICES: [0,1]\n",
      "Predicting DataLoader 0: 100%|████████████████████████████████████████████████████████████████████████████████████████████████████████████████████████████████| 225/225 [00:19<00:00, 11.67it/s]\n"
     ]
    },
    {
     "name": "stdout",
     "output_type": "stream",
     "text": [
      "Average COMET score: 0.5936\n"
     ]
    }
   ],
   "source": [
    "model_output = model.predict(comet_reason_data, batch_size=8, gpus=1)  # Set gpus=0 if no GPU\n",
    "\n",
    "# Individual scores\n",
    "comet_scores = model_output.scores\n",
    "\n",
    "# Average score\n",
    "avg_comet = sum(comet_scores) / len(comet_scores)\n",
    "\n",
    "print(f\"Average COMET score: {avg_comet:.4f}\")"
   ]
  },
  {
   "cell_type": "markdown",
   "id": "815c17bc-ff5d-4cae-947d-288176abeaae",
   "metadata": {},
   "source": [
    "# Chunked SBERT + Max Matching + Average"
   ]
  },
  {
   "cell_type": "code",
   "execution_count": 1,
   "id": "a1b487e4-a141-44da-9f98-24365f7ee0d9",
   "metadata": {},
   "outputs": [
    {
     "name": "stderr",
     "output_type": "stream",
     "text": [
      "[nltk_data] Downloading package punkt to\n",
      "[nltk_data]     /data/amey_2311cs10/nltk_data...\n",
      "[nltk_data]   Package punkt is already up-to-date!\n"
     ]
    },
    {
     "data": {
      "text/plain": [
       "True"
      ]
     },
     "execution_count": 1,
     "metadata": {},
     "output_type": "execute_result"
    }
   ],
   "source": [
    "import nltk\n",
    "nltk.download('punkt')"
   ]
  },
  {
   "cell_type": "code",
   "execution_count": 2,
   "id": "2073efc4-15a5-4982-8a16-9a667a200f6b",
   "metadata": {},
   "outputs": [
    {
     "name": "stderr",
     "output_type": "stream",
     "text": [
      "/data/amey_2311cs10/anaconda3/envs/condapy312/lib/python3.12/site-packages/tqdm/auto.py:21: TqdmWarning: IProgress not found. Please update jupyter and ipywidgets. See https://ipywidgets.readthedocs.io/en/stable/user_install.html\n",
      "  from .autonotebook import tqdm as notebook_tqdm\n"
     ]
    }
   ],
   "source": [
    "import pandas as pd\n",
    "from sentence_transformers import SentenceTransformer, util"
   ]
  },
  {
   "cell_type": "code",
   "execution_count": 4,
   "id": "91c50b06-a7b4-47c3-af66-d3eac5380dca",
   "metadata": {},
   "outputs": [],
   "source": [
    "# Load SBERT model\n",
    "model = SentenceTransformer('all-MiniLM-L6-v2')  # or 'all-mpnet-base-v2' for better quality"
   ]
  },
  {
   "cell_type": "code",
   "execution_count": 5,
   "id": "1f633a34-d07b-495e-99de-94a9f6fa51e7",
   "metadata": {},
   "outputs": [],
   "source": [
    "# Fallback if nltk not available\n",
    "def safe_sent_tokenize(text):\n",
    "    try:\n",
    "        import nltk\n",
    "        return nltk.sent_tokenize(text)\n",
    "    except:\n",
    "        # Basic sentence split fallback\n",
    "        return [s.strip() for s in text.split('.') if s.strip()]"
   ]
  },
  {
   "cell_type": "code",
   "execution_count": 11,
   "id": "63c80d47-d81c-4a03-8198-05efdc3489ef",
   "metadata": {},
   "outputs": [
    {
     "name": "stdout",
     "output_type": "stream",
     "text": [
      "\n",
      "Mean SBERT Semantic Similarity: 0.5147\n"
     ]
    }
   ],
   "source": [
    "# SBERT similarity function with fallback tokenization\n",
    "def sbert_similarity(text1, text2):\n",
    "    sents1 = safe_sent_tokenize(text1)\n",
    "    sents2 = safe_sent_tokenize(text2)\n",
    "\n",
    "    emb1 = model.encode(sents1, convert_to_tensor=True)\n",
    "    emb2 = model.encode(sents2, convert_to_tensor=True)\n",
    "\n",
    "    sim_matrix = util.pytorch_cos_sim(emb1, emb2)\n",
    "    ref_to_pred = sim_matrix.max(dim=1).values.mean().item()\n",
    "    pred_to_ref = sim_matrix.max(dim=0).values.mean().item()\n",
    "\n",
    "    return (ref_to_pred + pred_to_ref) / 2\n",
    "\n",
    "# Assuming df has 'reference' and 'predicted' columns\n",
    "similarities = []\n",
    "\n",
    "for idx, row in df.iterrows():\n",
    "    try:\n",
    "        score = sbert_similarity(row['reference'], row['predicted'])\n",
    "    except Exception as e:\n",
    "        print(f\"Error at row {idx}: {e}\")\n",
    "        score = None\n",
    "    similarities.append(score)\n",
    "\n",
    "\n",
    "\n",
    "# Add to DataFrame\n",
    "df['sbert_similarity'] = similarities\n",
    "\n",
    "# Compute and print mean similarity (excluding None)\n",
    "valid_scores = [s for s in similarities if s is not None]\n",
    "mean_score = sum(valid_scores) / len(valid_scores)\n",
    "print(f\"\\nMean SBERT Semantic Similarity: {mean_score:.4f}\")"
   ]
  },
  {
   "cell_type": "code",
   "execution_count": null,
   "id": "7dc1cf2e-847b-4e3f-be4c-f0f6c047745c",
   "metadata": {},
   "outputs": [],
   "source": []
  }
 ],
 "metadata": {
  "kernelspec": {
   "display_name": "condapy312",
   "language": "python",
   "name": "condapy312"
  },
  "language_info": {
   "codemirror_mode": {
    "name": "ipython",
    "version": 3
   },
   "file_extension": ".py",
   "mimetype": "text/x-python",
   "name": "python",
   "nbconvert_exporter": "python",
   "pygments_lexer": "ipython3",
   "version": "3.12.9"
  }
 },
 "nbformat": 4,
 "nbformat_minor": 5
}
